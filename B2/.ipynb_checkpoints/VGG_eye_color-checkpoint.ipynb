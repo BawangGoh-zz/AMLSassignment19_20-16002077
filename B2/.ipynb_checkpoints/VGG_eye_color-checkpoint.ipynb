{
 "cells": [
  {
   "cell_type": "markdown",
   "metadata": {},
   "source": [
    "# ELEC0134 - Applied Machine Learning Systems Assignment 2019/2020\n",
    "## Task B2: Eye Colors Recognition"
   ]
  },
  {
   "cell_type": "markdown",
   "metadata": {},
   "source": [
    "In this notebook, we are going to detect 5 different type of eye colors from the *cartoon_set* dataset:\n",
    "1. Preprocessing the images by cropping out the eye region\n",
    "2. Setup data generator to load **3 channels** images dataset using Keras Image Preprocessing API\n",
    "3. Build an VGG-16 CNN architecture\n",
    "4. Fit the CNN model to the training data\n",
    "5. Test the performances of the CNN"
   ]
  },
  {
   "cell_type": "code",
   "execution_count": 17,
   "metadata": {},
   "outputs": [],
   "source": [
    "# Import libraries\n",
    "import numpy as np\n",
    "import matplotlib\n",
    "import matplotlib.pyplot as plt\n",
    "import pandas as pd\n",
    "import os\n",
    "\n",
    "from sklearn.utils import shuffle\n",
    "from sklearn.model_selection import train_test_split"
   ]
  },
  {
   "cell_type": "markdown",
   "metadata": {},
   "source": [
    "### 1) Preprocess the images by cropping out eye region\n",
    "We can extract relevant features from the images by using face detector from dlib library which consists of a combination of the Histogram of Oriented Gradients (HOG) feature with a linear classifier, an image pyramid,and sliding window detection scheme. \n",
    "\n",
    "The image below visualizes the location of 68 facial regions that dlib detects:\n",
    "\n",
    "![facial_landmarks_68.jpg](facial_landmarks_68.jpg)\n",
    "\n",
    "1) Right eye: [37,42] &emsp; 2) Left eye: [43,48]\n",
    "\n",
    "We can obtain these features given an image by simply calling the ***extract_features_labels()*** function in the landmarks.py file. \n",
    "Use the dlib to extract the eye landmarks and make a bounding rectangle of it"
   ]
  },
  {
   "cell_type": "markdown",
   "metadata": {},
   "source": [
    "### Load labels.csv and convert to pandas dataframe"
   ]
  },
  {
   "cell_type": "code",
   "execution_count": 2,
   "metadata": {},
   "outputs": [
    {
     "name": "stdout",
     "output_type": "stream",
     "text": [
      "  file_name  eye_color\n",
      "0     0.png          1\n",
      "1     1.png          2\n",
      "2     2.png          2\n",
      "3     3.png          2\n",
      "4     4.png          0\n",
      "  file_name  eye_color\n",
      "0     0.png          2\n",
      "1     1.png          3\n",
      "2     2.png          3\n",
      "3     3.png          3\n",
      "4     4.png          1\n"
     ]
    },
    {
     "name": "stderr",
     "output_type": "stream",
     "text": [
      "c:\\users\\user\\anaconda3\\envs\\env_dlib\\lib\\site-packages\\pandas\\core\\indexing.py:494: SettingWithCopyWarning: \n",
      "A value is trying to be set on a copy of a slice from a DataFrame.\n",
      "Try using .loc[row_indexer,col_indexer] = value instead\n",
      "\n",
      "See the caveats in the documentation: http://pandas.pydata.org/pandas-docs/stable/user_guide/indexing.html#returning-a-view-versus-a-copy\n",
      "  self.obj[item] = s\n"
     ]
    }
   ],
   "source": [
    "import lab2_landmarks as l2\n",
    "\n",
    "# Modified the directory\n",
    "os.chdir('..')\n",
    "AMLS_dir = os.path.abspath(os.curdir)\n",
    "basedir = os.path.join(AMLS_dir,'Datasets')\n",
    "cartoon_dir = os.path.join(basedir,'cartoon_set')\n",
    "images_dir = os.path.join(cartoon_dir,'img')\n",
    "labels_path = os.path.join(cartoon_dir,'labels.csv')\n",
    "\n",
    "# Converting csv into dataframe using read_csv(label_path)\n",
    "cartoon_df = pd.read_csv(os.path.normcase(labels_path), sep='\\t', engine='python')\n",
    "df = cartoon_df[['file_name', 'eye_color']]\n",
    "print(df.head())\n",
    "\n",
    "# Convert the face shape column to class 1-5\n",
    "df.loc[:,'eye_color'] += 1\n",
    "print(df.head())\n",
    "\n",
    "# Convert face shape column type from int64 to str for data generator\n",
    "df = df.applymap(str)"
   ]
  },
  {
   "cell_type": "markdown",
   "metadata": {},
   "source": [
    "### 1) Setup data generators to draws from train, test and validation dataframe\n",
    "1. Convolution Neural Networks fed by batches of images to train, therefore need to convert from (size1, size2, channels) to (samples, size1, size2, channels).\n",
    "2. Split the dataframe into test, train and validation set.\n",
    "3. Use Keras Image Processing API (flow_from_dataframe) to load the images dataset according to dataframe"
   ]
  },
  {
   "cell_type": "code",
   "execution_count": 14,
   "metadata": {},
   "outputs": [
    {
     "name": "stdout",
     "output_type": "stream",
     "text": [
      "Found 5600 validated image filenames belonging to 5 classes.\n",
      "Found 1400 validated image filenames belonging to 5 classes.\n"
     ]
    }
   ],
   "source": [
    "# Import data generator API \n",
    "from tensorflow.python.keras.preprocessing.image import ImageDataGenerator\n",
    "\n",
    "# Setup data generator for train and validation dataset generator\n",
    "train_df, test_df = train_test_split(df, train_size=0.7, random_state=42)\n",
    "train_datagen = ImageDataGenerator(rescale=1./255,\n",
    "                                   horizontal_flip=True,\n",
    "                                   vertical_flip=True,\n",
    "                                   validation_split=0.2)                     \n",
    "\n",
    "# Generating training and validation dataset for VGGNet CNN\n",
    "train_generator = train_datagen.flow_from_dataframe(dataframe=train_df,\n",
    "                                                    directory=images_dir,\n",
    "                                                    x_col=\"file_name\",\n",
    "                                                    y_col=\"eye_color\",\n",
    "                                                    target_size=(32, 32),\n",
    "                                                    batch_size=16,\n",
    "                                                    shuffle=True,\n",
    "                                                    class_mode='categorical',\n",
    "                                                    subset='training')\n",
    "valid_generator = train_datagen.flow_from_dataframe(dataframe=train_df,\n",
    "                                                    directory=images_dir,\n",
    "                                                    x_col=\"file_name\",\n",
    "                                                    y_col=\"eye_color\",\n",
    "                                                    target_size=(32, 32),\n",
    "                                                    batch_size=16,\n",
    "                                                    shuffle=True, \n",
    "                                                    class_mode='categorical',\n",
    "                                                    subset='validation')"
   ]
  },
  {
   "cell_type": "markdown",
   "metadata": {},
   "source": [
    "### Using EarlyStopping and ModelCheckpoint Keras API callback to save the weights\n",
    "Too many training epochs will lead to overfitting the training dataset whereas too few will result underfitting. Therefore, it is better to monitor the performance of the model during training and call EarlyStopping when overfitting occurs and save the weights using ModelCheckpoint"
   ]
  },
  {
   "cell_type": "code",
   "execution_count": 4,
   "metadata": {},
   "outputs": [],
   "source": [
    "# Use early stopping to terminate training epochs through callbacks\n",
    "from tensorflow.python.keras.callbacks import EarlyStopping, ModelCheckpoint\n",
    "\n",
    "# Seek a mininum for validation loss and display the stopped epochs using verbose and adding delays\n",
    "es = EarlyStopping(monitor='val_loss', mode='min', verbose=1, patience=5)\n",
    "\n",
    "# Save best model using checkpoint\n",
    "B1_dir = os.path.join(AMLS_dir, 'B2')\n",
    "model_path = os.path.join(B1_dir, 'VGGNet_eye.h5')\n",
    "mcp = ModelCheckpoint(os.path.normcase(model_path), monitor='val_loss', mode='min', verbose=1, save_best_only=True)\n",
    "\n",
    "# Define callback function in a list\n",
    "callback_list = [es, mcp]"
   ]
  },
  {
   "cell_type": "markdown",
   "metadata": {},
   "source": [
    "### 2) Build the neural network using VGG-16 architecture\n",
    "1. Build the sequential model and add convolutional and max pooling layers to it.\n",
    "2. Add dropout layer at fully connected layer\n",
    "3. Add softmax layer at the end\n",
    "4. Compile the model and use ADAM (Adaptive learning rate optimization algorithm)"
   ]
  },
  {
   "cell_type": "code",
   "execution_count": 5,
   "metadata": {
    "scrolled": false
   },
   "outputs": [
    {
     "name": "stderr",
     "output_type": "stream",
     "text": [
      "Using TensorFlow backend.\n"
     ]
    },
    {
     "name": "stdout",
     "output_type": "stream",
     "text": [
      "Model: \"sequential_1\"\n",
      "_________________________________________________________________\n",
      "Layer (type)                 Output Shape              Param #   \n",
      "=================================================================\n",
      "conv2d_1 (Conv2D)            (None, 32, 32, 16)        448       \n",
      "_________________________________________________________________\n",
      "batch_normalization_1 (Batch (None, 32, 32, 16)        64        \n",
      "_________________________________________________________________\n",
      "max_pooling2d_1 (MaxPooling2 (None, 16, 16, 16)        0         \n",
      "_________________________________________________________________\n",
      "conv2d_2 (Conv2D)            (None, 16, 16, 32)        4640      \n",
      "_________________________________________________________________\n",
      "batch_normalization_2 (Batch (None, 16, 16, 32)        128       \n",
      "_________________________________________________________________\n",
      "max_pooling2d_2 (MaxPooling2 (None, 8, 8, 32)          0         \n",
      "_________________________________________________________________\n",
      "conv2d_3 (Conv2D)            (None, 8, 8, 64)          18496     \n",
      "_________________________________________________________________\n",
      "batch_normalization_3 (Batch (None, 8, 8, 64)          256       \n",
      "_________________________________________________________________\n",
      "max_pooling2d_3 (MaxPooling2 (None, 4, 4, 64)          0         \n",
      "_________________________________________________________________\n",
      "conv2d_4 (Conv2D)            (None, 4, 4, 128)         73856     \n",
      "_________________________________________________________________\n",
      "batch_normalization_4 (Batch (None, 4, 4, 128)         512       \n",
      "_________________________________________________________________\n",
      "max_pooling2d_4 (MaxPooling2 (None, 2, 2, 128)         0         \n",
      "_________________________________________________________________\n",
      "flatten_1 (Flatten)          (None, 512)               0         \n",
      "_________________________________________________________________\n",
      "dense_1 (Dense)              (None, 64)                32832     \n",
      "_________________________________________________________________\n",
      "dropout_1 (Dropout)          (None, 64)                0         \n",
      "_________________________________________________________________\n",
      "dense_2 (Dense)              (None, 5)                 325       \n",
      "=================================================================\n",
      "Total params: 131,557\n",
      "Trainable params: 131,077\n",
      "Non-trainable params: 480\n",
      "_________________________________________________________________\n"
     ]
    }
   ],
   "source": [
    "# Import network libraries\n",
    "import keras\n",
    "from keras.models import Sequential\n",
    "from keras.utils import to_categorical\n",
    "from keras.layers import Dense, Dropout, Flatten, Activation\n",
    "from keras.layers import Conv2D, MaxPooling2D, BatchNormalization, GlobalAveragePooling2D\n",
    "\n",
    "# Number of output classes\n",
    "num_class = 5\n",
    "\n",
    "# Create a sequential model\n",
    "model = Sequential()\n",
    "\n",
    "# Add 1st convolution block\n",
    "model.add(Conv2D(filters=16, input_shape=train_generator.image_shape, kernel_size=(3,3), padding=\"same\", activation=\"relu\"))\n",
    "model.add(BatchNormalization())\n",
    "model.add(MaxPooling2D(pool_size=(2,2), strides=(2,2), padding=\"same\"))\n",
    "\n",
    "# Add 2nd convolution block\n",
    "model.add(Conv2D(filters=32, kernel_size=(3,3), padding=\"same\", activation=\"relu\"))\n",
    "model.add(BatchNormalization())\n",
    "model.add(MaxPooling2D(pool_size=(2,2), strides=(2,2), padding=\"same\"))\n",
    "\n",
    "# Add 3rd convolution block\n",
    "model.add(Conv2D(filters=64, kernel_size=(3,3), padding=\"same\", activation=\"relu\"))\n",
    "model.add(BatchNormalization())\n",
    "model.add(MaxPooling2D(pool_size=(2,2), strides=(2,2), padding=\"same\"))\n",
    "\n",
    "# Add 4th convolution block\n",
    "model.add(Conv2D(filters=128, kernel_size=(3, 3), padding='same', activation='relu'))\n",
    "model.add(BatchNormalization())\n",
    "model.add(MaxPooling2D(pool_size=(2,2), strides=(2,2), padding='same'))\n",
    "\n",
    "# Output Layer (5 clases for face shapes)\n",
    "model.add(Flatten())\n",
    "model.add(Dense(units=64,activation=\"relu\"))\n",
    "model.add(Dropout(0.5))\n",
    "model.add(Dense(units=num_class, activation=\"softmax\"))\n",
    "\n",
    "# Display summary of the model\n",
    "model.summary()\n",
    "\n",
    "# Compile the model using ADAM (Adaptive learning rate optimization)\n",
    "model.compile(optimizer='adam', loss='categorical_crossentropy', metrics=['accuracy'])"
   ]
  },
  {
   "cell_type": "markdown",
   "metadata": {},
   "source": [
    "### 3) Fit the VGG-16 CNN to training and validation data\n",
    "Access model training history using history callback to record training metrics for each epoch"
   ]
  },
  {
   "cell_type": "code",
   "execution_count": 6,
   "metadata": {},
   "outputs": [
    {
     "name": "stdout",
     "output_type": "stream",
     "text": [
      "350\n",
      "87\n",
      "Epoch 1/30\n",
      "350/350 [==============================] - 240s 686ms/step - loss: 1.6493 - accuracy: 0.2177 - val_loss: 1.6066 - val_accuracy: 0.2098\n",
      "\n",
      "Epoch 00001: val_loss improved from inf to 1.60656, saving model to d:\\ucl\\4th year\\applied machine learning system\\part 1\\assignment\\amls_assignment\\b2\\vggnet_eye.h5\n",
      "Epoch 2/30\n",
      "350/350 [==============================] - 106s 302ms/step - loss: 1.4379 - accuracy: 0.3164 - val_loss: 1.3112 - val_accuracy: 0.3280\n",
      "\n",
      "Epoch 00002: val_loss improved from 1.60656 to 1.31122, saving model to d:\\ucl\\4th year\\applied machine learning system\\part 1\\assignment\\amls_assignment\\b2\\vggnet_eye.h5\n",
      "Epoch 3/30\n",
      "350/350 [==============================] - 66s 189ms/step - loss: 1.2934 - accuracy: 0.3932 - val_loss: 1.0447 - val_accuracy: 0.5058\n",
      "\n",
      "Epoch 00003: val_loss improved from 1.31122 to 1.04471, saving model to d:\\ucl\\4th year\\applied machine learning system\\part 1\\assignment\\amls_assignment\\b2\\vggnet_eye.h5\n",
      "Epoch 4/30\n",
      "350/350 [==============================] - 47s 135ms/step - loss: 1.1235 - accuracy: 0.4461 - val_loss: 1.2028 - val_accuracy: 0.5910\n",
      "\n",
      "Epoch 00004: val_loss did not improve from 1.04471\n",
      "Epoch 5/30\n",
      "350/350 [==============================] - 47s 133ms/step - loss: 1.0108 - accuracy: 0.5045 - val_loss: 1.1475 - val_accuracy: 0.6893\n",
      "\n",
      "Epoch 00005: val_loss did not improve from 1.04471\n",
      "Epoch 6/30\n",
      "350/350 [==============================] - 66s 188ms/step - loss: 0.7735 - accuracy: 0.6204 - val_loss: 0.6195 - val_accuracy: 0.7001\n",
      "\n",
      "Epoch 00006: val_loss improved from 1.04471 to 0.61953, saving model to d:\\ucl\\4th year\\applied machine learning system\\part 1\\assignment\\amls_assignment\\b2\\vggnet_eye.h5\n",
      "Epoch 7/30\n",
      "350/350 [==============================] - 64s 184ms/step - loss: 0.6550 - accuracy: 0.6888 - val_loss: 0.3892 - val_accuracy: 0.7999\n",
      "\n",
      "Epoch 00007: val_loss improved from 0.61953 to 0.38923, saving model to d:\\ucl\\4th year\\applied machine learning system\\part 1\\assignment\\amls_assignment\\b2\\vggnet_eye.h5\n",
      "Epoch 8/30\n",
      "350/350 [==============================] - 49s 140ms/step - loss: 0.6006 - accuracy: 0.7232 - val_loss: 0.4718 - val_accuracy: 0.8071\n",
      "\n",
      "Epoch 00008: val_loss did not improve from 0.38923\n",
      "Epoch 9/30\n",
      "350/350 [==============================] - 48s 138ms/step - loss: 0.4845 - accuracy: 0.7691 - val_loss: 0.5223 - val_accuracy: 0.8035\n",
      "\n",
      "Epoch 00009: val_loss did not improve from 0.38923\n",
      "Epoch 10/30\n",
      "350/350 [==============================] - 48s 138ms/step - loss: 0.4683 - accuracy: 0.7759 - val_loss: 0.4146 - val_accuracy: 0.8194\n",
      "\n",
      "Epoch 00010: val_loss did not improve from 0.38923\n",
      "Epoch 11/30\n",
      "350/350 [==============================] - 51s 146ms/step - loss: 0.4464 - accuracy: 0.7873 - val_loss: 0.1010 - val_accuracy: 0.8165\n",
      "\n",
      "Epoch 00011: val_loss improved from 0.38923 to 0.10099, saving model to d:\\ucl\\4th year\\applied machine learning system\\part 1\\assignment\\amls_assignment\\b2\\vggnet_eye.h5\n",
      "Epoch 12/30\n",
      "350/350 [==============================] - 51s 146ms/step - loss: 0.4244 - accuracy: 0.7948 - val_loss: 0.6137 - val_accuracy: 0.7001\n",
      "\n",
      "Epoch 00012: val_loss did not improve from 0.10099\n",
      "Epoch 13/30\n",
      "350/350 [==============================] - 46s 132ms/step - loss: 0.4164 - accuracy: 0.8005 - val_loss: 0.1144 - val_accuracy: 0.8280\n",
      "\n",
      "Epoch 00013: val_loss did not improve from 0.10099\n",
      "Epoch 14/30\n",
      "350/350 [==============================] - 45s 130ms/step - loss: 0.3998 - accuracy: 0.8062 - val_loss: 0.3005 - val_accuracy: 0.8165\n",
      "\n",
      "Epoch 00014: val_loss did not improve from 0.10099\n",
      "Epoch 15/30\n",
      "350/350 [==============================] - 46s 131ms/step - loss: 0.4132 - accuracy: 0.8023 - val_loss: 0.2180 - val_accuracy: 0.7529\n",
      "\n",
      "Epoch 00015: val_loss did not improve from 0.10099\n",
      "Epoch 16/30\n",
      "350/350 [==============================] - 45s 129ms/step - loss: 0.3911 - accuracy: 0.8139 - val_loss: 0.7838 - val_accuracy: 0.7673\n",
      "\n",
      "Epoch 00016: val_loss did not improve from 0.10099\n",
      "Epoch 00016: early stopping\n"
     ]
    }
   ],
   "source": [
    "# Set steps per epoch for callback \n",
    "STEP_SIZE_TRAIN = train_generator.samples//train_generator.batch_size\n",
    "STEP_SIZE_VALID = valid_generator.samples//valid_generator.batch_size\n",
    "print(STEP_SIZE_TRAIN)\n",
    "print(STEP_SIZE_VALID)\n",
    "\n",
    "history = model.fit_generator(generator=train_generator,\n",
    "                              steps_per_epoch=STEP_SIZE_TRAIN,\n",
    "                              epochs=30,\n",
    "                              callbacks=callback_list,\n",
    "                              validation_data=valid_generator,\n",
    "                              validation_steps=STEP_SIZE_VALID)"
   ]
  },
  {
   "cell_type": "markdown",
   "metadata": {},
   "source": [
    "### 4) Performances of CNN\n",
    "1. Plot the learning curve for model validation to select the optimum hyperparameters\n",
    "2. Evaluating model performances using standard metrics e.g confusion matrix, accurancy score, ROC curve and etc"
   ]
  },
  {
   "cell_type": "markdown",
   "metadata": {},
   "source": [
    "### Model validation"
   ]
  },
  {
   "cell_type": "code",
   "execution_count": 7,
   "metadata": {},
   "outputs": [
    {
     "data": {
      "text/plain": [
       "<matplotlib.legend.Legend at 0x1614f155860>"
      ]
     },
     "execution_count": 7,
     "metadata": {},
     "output_type": "execute_result"
    },
    {
     "data": {
      "image/png": "[encoded data removed]",
      "text/plain": [
       "<Figure size 432x288 with 1 Axes>"
      ]
     },
     "metadata": {
      "needs_background": "light"
     },
     "output_type": "display_data"
    }
   ],
   "source": [
    "# Plot accuracy score versus epochs\n",
    "plt.plot(history.history['accuracy'])\n",
    "plt.plot(history.history['val_accuracy'])\n",
    "plt.ylabel('Accuracy')\n",
    "plt.xlabel('Epoch')\n",
    "plt.legend(['Train', 'Validation'], loc='lower right')"
   ]
  },
  {
   "cell_type": "code",
   "execution_count": 8,
   "metadata": {},
   "outputs": [
    {
     "data": {
      "text/plain": [
       "<matplotlib.legend.Legend at 0x1614f227208>"
      ]
     },
     "execution_count": 8,
     "metadata": {},
     "output_type": "execute_result"
    },
    {
     "data": {
      "image/png": "[encoded data removed]",
      "text/plain": [
       "<Figure size 432x288 with 1 Axes>"
      ]
     },
     "metadata": {
      "needs_background": "light"
     },
     "output_type": "display_data"
    }
   ],
   "source": [
    "# Plot loss score versus epochs\n",
    "plt.plot(history.history['loss'])\n",
    "plt.plot(history.history['val_loss'])\n",
    "plt.ylabel('Loss')\n",
    "plt.xlabel('Epoch')\n",
    "plt.legend(['Train', 'Validation'], loc='upper right')"
   ]
  },
  {
   "cell_type": "markdown",
   "metadata": {},
   "source": [
    "### Model evaluation on validation dataset"
   ]
  },
  {
   "cell_type": "code",
   "execution_count": 9,
   "metadata": {},
   "outputs": [
    {
     "name": "stdout",
     "output_type": "stream",
     "text": [
      "Found 1400 validated image filenames belonging to 5 classes.\n",
      "87/87 [==============================] - 1s 7ms/step\n",
      "loss: 1.6229450702667236\n",
      "accuracy: 0.7471264600753784\n"
     ]
    }
   ],
   "source": [
    "from sklearn.metrics import classification_report,accuracy_score,confusion_matrix, plot_confusion_matrix\n",
    "\n",
    "# Evaluate the model with validation dataset\n",
    "eval_generator = train_datagen.flow_from_dataframe(dataframe=train_df,\n",
    "                                                    directory=images_dir,\n",
    "                                                    x_col=\"file_name\",\n",
    "                                                    y_col=\"eye_color\",\n",
    "                                                    target_size=(32, 32),\n",
    "                                                    batch_size=1,\n",
    "                                                    shuffle=True, \n",
    "                                                    class_mode='categorical',\n",
    "                                                    subset='validation')\n",
    "eval_model = model.evaluate_generator(generator=eval_generator, steps=STEP_SIZE_VALID, verbose=1)\n",
    "print(str(model.metrics_names[0]) + ': '  + str(eval_model[0]))\n",
    "print(str(model.metrics_names[1]) + ': '  + str(eval_model[1]))"
   ]
  },
  {
   "cell_type": "markdown",
   "metadata": {},
   "source": [
    "### Model evaluation on test dataset"
   ]
  },
  {
   "cell_type": "code",
   "execution_count": 10,
   "metadata": {},
   "outputs": [
    {
     "name": "stdout",
     "output_type": "stream",
     "text": [
      "Found 3000 validated image filenames belonging to 5 classes.\n",
      "3000/3000 [==============================] - 53s 18ms/step\n"
     ]
    }
   ],
   "source": [
    "from keras.models import load_model\n",
    "\n",
    "# Fit the model to the test dataset by loading the model \n",
    "saved_model = load_model(model_path)\n",
    "\n",
    "# Generate test dataset from dataframe\n",
    "test_datagen = ImageDataGenerator(rescale=1./255)\n",
    "test_generator = test_datagen.flow_from_dataframe(dataframe=test_df,\n",
    "                                                    directory=images_dir,\n",
    "                                                    x_col=\"file_name\",\n",
    "                                                    y_col=\"eye_color\",\n",
    "                                                    target_size=(32, 32),\n",
    "                                                    batch_size=1,\n",
    "                                                    shuffle=False,\n",
    "                                                    class_mode='categorical')\n",
    "STEP_SIZE_TEST = test_generator.samples//test_generator.batch_size\n",
    "test_generator.reset()\n",
    "pred = saved_model.predict_generator(test_generator, steps=STEP_SIZE_TEST, verbose=1)\n",
    "\n",
    "# Determine the maximum activation value at the output layers for each sample\n",
    "pred_class = np.argmax(pred, axis=1)   # axis = 1 give max value along each row\n",
    "\n",
    "# True labels of test dataset\n",
    "true_class = test_generator.classes\n"
   ]
  },
  {
   "cell_type": "code",
   "execution_count": 16,
   "metadata": {},
   "outputs": [
    {
     "name": "stdout",
     "output_type": "stream",
     "text": [
      "Confusion matrix\n",
      "[[473   6   9 114   0]\n",
      " [  0 479   9 128   0]\n",
      " [  6   3 447 114   0]\n",
      " [  0   4  13 601   1]\n",
      " [  0   5   7 124 457]]\n",
      "Normalized confusion matrix\n",
      "[[0.97192282 0.01232883 0.01849325 0.23424778 0.        ]\n",
      " [0.         0.96594178 0.01814922 0.25812223 0.        ]\n",
      " [0.01300512 0.00650256 0.96888157 0.24709731 0.        ]\n",
      " [0.         0.00665386 0.02162505 0.99974263 0.00166347]\n",
      " [0.         0.01055738 0.01478034 0.26182313 0.96494494]]\n"
     ]
    },
    {
     "data": {
      "image/png": "[encoded data removed]",
      "text/plain": [
       "<Figure size 720x720 with 4 Axes>"
      ]
     },
     "metadata": {
      "needs_background": "light"
     },
     "output_type": "display_data"
    }
   ],
   "source": [
    "from sklearn.preprocessing import normalize\n",
    "%matplotlib inline\n",
    "\n",
    "def plot_cm(true_label, pred_label):\n",
    "    # Plot non-normalized and normalize confusian matrix\n",
    "    class_names = ['Face Shape 1', 'Face Shape 2', 'Face Shape 3', 'Face Shape 4', 'Face Shape 5']\n",
    "    cm = confusion_matrix(true_label, pred_label)\n",
    "    norm_cm = normalize(cm)\n",
    "    \n",
    "    print('Confusion matrix')\n",
    "    print(cm)\n",
    "    \n",
    "    fig, (ax1, ax2) = plt.subplots(1,2, figsize=(10,10))\n",
    "    im1 = ax1.imshow(cm, interpolation=\"nearest\")\n",
    "    plt.colorbar(im1, fraction=0.05, pad=0.04, ax=ax1)\n",
    "    \n",
    "    ax1.set_xticks(np.arange(len(class_names)))\n",
    "    ax1.set_yticks(np.arange(len(class_names)))\n",
    "    ax1.set_xticklabels(class_names)\n",
    "    ax1.set_yticklabels(class_names)\n",
    "    ax1.set_title('Confusion matrix')\n",
    "    ax1.set_xlabel('Predicted labels')\n",
    "    ax1.set_ylabel('True labels')\n",
    "    \n",
    "    \n",
    "    # Rotate the tick labels and set their alignment.\n",
    "    plt.setp(ax1.get_xticklabels(), rotation=45, ha=\"right\",\n",
    "             rotation_mode=\"anchor\")\n",
    "    \n",
    "    print('Normalized confusion matrix')\n",
    "    print(norm_cm)\n",
    "    \n",
    "    im2 = ax2.imshow(norm_cm, interpolation=\"nearest\")\n",
    "    plt.colorbar(im2, fraction=0.05, pad=0.04, ax=ax2)\n",
    "    \n",
    "    ax2.set_xticks(np.arange(len(class_names)))\n",
    "    ax2.set_yticks(np.arange(len(class_names)))\n",
    "    ax2.set_xticklabels(class_names)\n",
    "    ax2.set_yticklabels(class_names)\n",
    "    ax2.set_title('Normalized confusion matrix')\n",
    "    ax2.set_xlabel('Predicted labels')\n",
    "    ax2.set_ylabel('True labels')\n",
    "    \n",
    "    \n",
    "    # Rotate the tick labels and set their alignment.\n",
    "    plt.setp(ax2.get_xticklabels(), rotation=45, ha=\"right\",\n",
    "             rotation_mode=\"anchor\")\n",
    "    \n",
    "    fig.tight_layout()\n",
    "    plt.show()\n",
    "\n",
    "plot_cm(true_class, pred_class)"
   ]
  },
  {
   "cell_type": "code",
   "execution_count": 12,
   "metadata": {
    "scrolled": true
   },
   "outputs": [
    {
     "name": "stdout",
     "output_type": "stream",
     "text": [
      "[2, 2, 4, 2, 1, 2, 4, 3, 1, 4, 0, 4, 0, 1, 0, 1, 1, 4, 0, 1, 1, 2, 1, 4, 1, 3, 4, 1, 0, 0, 3, 4, 4, 4, 3, 0, 4, 0, 0, 3, 1, 4, 2, 2, 4, 4, 0, 4, 1, 4, 0, 2, 2, 0, 2, 3, 0, 4, 1, 3, 3, 4, 0, 0, 2, 4, 0, 2, 3, 1, 4, 4, 3, 4, 0, 3, 3, 0, 3, 0, 3, 3, 0, 2, 1, 0, 2, 2, 3, 4, 0, 3, 4, 3, 4, 3, 1, 1, 4, 2, 1, 1, 3, 3, 3, 1, 4, 1, 1, 1, 3, 0, 3, 1, 4, 1, 4, 3, 0, 1, 4, 1, 3, 1, 0, 4, 2, 4, 2, 1, 0, 1, 2, 2, 2, 1, 4, 0, 3, 1, 1, 3, 1, 2, 2, 4, 0, 0, 1, 4, 2, 2, 3, 1, 1, 2, 3, 2, 3, 4, 4, 3, 4, 0, 0, 0, 2, 1, 2, 2, 4, 1, 0, 1, 1, 3, 2, 3, 3, 2, 4, 0, 4, 1, 0, 2, 3, 2, 3, 2, 1, 2, 2, 3, 3, 2, 0, 0, 0, 2, 0, 2, 2, 4, 2, 3, 3, 4, 4, 0, 0, 4, 4, 3, 3, 1, 3, 0, 4, 4, 1, 1, 1, 1, 4, 3, 1, 4, 0, 2, 3, 3, 2, 0, 3, 1, 1, 1, 3, 1, 2, 2, 1, 2, 2, 0, 0, 4, 0, 4, 3, 2, 2, 4, 4, 3, 0, 1, 4, 4, 1, 1, 1, 1, 3, 2, 4, 4, 1, 1, 0, 0, 1, 0, 1, 3, 0, 3, 1, 0, 3, 2, 1, 4, 0, 1, 2, 4, 4, 0, 1, 2, 1, 1, 0, 3, 0, 2, 2, 1, 1, 1, 3, 0, 1, 0, 1, 0, 4, 3, 0, 1, 3, 3, 4, 0, 4, 4, 2, 2, 2, 4, 0, 0, 1, 1, 3, 4, 4, 2, 3, 0, 2, 3, 1, 2, 3, 2, 3, 3, 0, 2, 1, 0, 0, 2, 4, 4, 0, 1, 0, 4, 1, 0, 4, 1, 0, 3, 2, 2, 3, 2, 3, 0, 2, 0, 3, 4, 1, 3, 1, 3, 3, 0, 3, 4, 1, 0, 3, 2, 3, 2, 2, 4, 3, 4, 0, 2, 4, 4, 4, 4, 2, 2, 0, 4, 0, 0, 3, 3, 4, 2, 2, 0, 2, 1, 3, 1, 1, 3, 3, 0, 2, 0, 1, 1, 0, 4, 2, 3, 2, 3, 0, 3, 1, 3, 3, 0, 3, 2, 0, 4, 2, 0, 2, 0, 0, 3, 3, 3, 2, 0, 0, 3, 2, 0, 3, 3, 0, 3, 4, 1, 4, 3, 1, 1, 0, 2, 1, 4, 4, 1, 1, 4, 2, 0, 4, 3, 0, 1, 4, 1, 3, 0, 2, 4, 0, 0, 4, 0, 0, 2, 2, 4, 3, 1, 2, 1, 0, 1, 3, 0, 0, 2, 0, 0, 3, 3, 4, 1, 0, 3, 2, 1, 1, 1, 4, 0, 1, 0, 0, 4, 0, 2, 4, 3, 4, 3, 2, 3, 2, 0, 0, 2, 3, 1, 2, 3, 0, 3, 2, 3, 2, 2, 2, 2, 3, 0, 3, 4, 4, 3, 4, 0, 2, 4, 4, 1, 3, 4, 3, 0, 0, 2, 1, 3, 1, 3, 3, 3, 1, 3, 4, 3, 4, 2, 3, 3, 0, 4, 3, 2, 4, 3, 1, 4, 0, 1, 1, 3, 0, 4, 3, 4, 2, 3, 0, 1, 1, 4, 1, 1, 3, 3, 4, 4, 1, 1, 4, 3, 4, 3, 2, 3, 1, 2, 3, 1, 4, 0, 0, 0, 2, 4, 4, 2, 2, 3, 2, 4, 2, 3, 1, 0, 4, 1, 4, 4, 0, 4, 4, 0, 4, 0, 3, 3, 2, 4, 1, 3, 4, 1, 4, 3, 3, 1, 3, 4, 2, 1, 3, 0, 2, 2, 0, 0, 4, 2, 4, 2, 3, 1, 1, 3, 1, 0, 1, 0, 2, 0, 3, 4, 4, 3, 4, 4, 3, 3, 2, 0, 1, 1, 4, 0, 4, 1, 1, 0, 1, 0, 4, 2, 0, 4, 1, 2, 3, 1, 3, 0, 0, 4, 2, 3, 1, 3, 1, 2, 1, 2, 3, 2, 1, 2, 4, 4, 2, 4, 0, 1, 1, 3, 0, 4, 2, 1, 0, 4, 0, 0, 3, 0, 0, 2, 4, 4, 0, 2, 2, 2, 0, 2, 4, 3, 4, 0, 2, 4, 2, 2, 4, 4, 3, 3, 3, 4, 3, 3, 1, 3, 4, 3, 3, 1, 1, 1, 1, 2, 3, 1, 3, 2, 3, 0, 0, 4, 3, 1, 2, 3, 0, 4, 4, 3, 1, 2, 3, 4, 0, 3, 3, 0, 3, 0, 1, 4, 1, 0, 0, 4, 3, 4, 0, 1, 2, 3, 1, 3, 3, 4, 3, 2, 1, 3, 1, 3, 1, 4, 2, 3, 0, 0, 2, 0, 0, 3, 3, 2, 0, 0, 0, 1, 1, 1, 0, 0, 1, 3, 3, 0, 0, 1, 2, 1, 4, 1, 1, 3, 2, 0, 4, 4, 3, 4, 3, 0, 3, 1, 0, 2, 2, 1, 3, 3, 1, 3, 0, 1, 0, 3, 1, 2, 3, 2, 4, 3, 4, 3, 1, 3, 2, 0, 2, 2, 4, 2, 3, 0, 4, 3, 3, 4, 2, 0, 2, 4, 2, 1, 3, 4, 2, 1, 0, 1, 3, 0, 4, 4, 2, 3, 1, 3, 1, 1, 3, 2, 4, 0, 1, 4, 1, 1, 1, 4, 4, 1, 4, 4, 0, 4, 1, 3, 1, 1, 1, 0, 1, 0, 0, 2, 0, 4, 3, 0, 3, 2, 2, 4, 3, 1, 0, 4, 1, 3, 1, 4, 3, 0, 0, 0, 2, 2, 2, 3, 0, 2, 4, 0, 4, 2, 0, 1, 3, 2, 0, 1, 3, 2, 1, 1, 3, 0, 2, 1, 3, 3, 1, 2, 1, 2, 1, 4, 4, 3, 1, 3, 0, 4, 2, 0, 0, 4, 4, 4, 0, 1, 0, 4, 2, 4, 4, 1, 3, 3, 4, 0, 1, 3, 0, 3, 4, 2, 3, 2, 0, 1, 4, 2, 4, 0, 1, 4, 2, 3, 4, 2, 2, 4, 3, 0, 2, 3, 4, 2, 0, 3, 3, 2, 0, 0, 4, 0, 3, 2, 2, 4, 2, 2, 2, 4, 0, 2, 1, 0, 1, 2, 4, 1, 1, 1, 2, 2, 2, 0, 2, 2, 1, 4, 1, 2, 3, 2, 1, 2, 0, 0, 2, 3, 1, 3, 3, 1, 3, 3, 0, 4, 2, 1, 0, 1, 3, 1, 4, 4, 0, 0, 1, 3, 3, 4, 3, 1, 1, 2, 3, 2, 2, 1, 1, 3, 4, 1, 4, 0, 3, 1, 0, 2, 4, 4, 1, 3, 1, 3, 0, 2, 2, 1, 0, 1, 0, 1, 4, 1, 3, 4, 0, 0, 1, 2, 2, 0, 0, 2, 0, 3, 3, 0, 4, 2, 4, 4, 2, 3, 1, 1, 0, 3, 1, 0, 4, 0, 0, 2, 1, 0, 2, 4, 3, 1, 0, 3, 1, 1, 1, 0, 4, 0, 3, 3, 2, 4, 2, 2, 0, 2, 4, 2, 0, 1, 2, 0, 1, 2, 2, 2, 1, 0, 1, 2, 3, 0, 3, 2, 0, 2, 0, 0, 1, 1, 4, 0, 1, 3, 2, 4, 1, 2, 2, 2, 4, 4, 4, 1, 2, 1, 3, 1, 4, 0, 2, 4, 1, 4, 1, 2, 0, 1, 0, 3, 1, 3, 3, 3, 4, 3, 2, 2, 4, 3, 4, 2, 2, 4, 1, 0, 0, 0, 1, 0, 2, 0, 2, 0, 0, 4, 1, 4, 2, 1, 3, 4, 4, 2, 0, 4, 3, 2, 1, 0, 1, 2, 3, 3, 0, 1, 4, 4, 2, 4, 2, 0, 1, 1, 0, 2, 0, 2, 2, 3, 3, 2, 4, 1, 2, 4, 2, 2, 4, 0, 4, 2, 2, 3, 1, 1, 2, 2, 3, 3, 1, 1, 0, 3, 4, 3, 1, 4, 4, 4, 3, 3, 1, 3, 1, 1, 3, 2, 1, 3, 0, 0, 0, 3, 1, 1, 3, 4, 0, 1, 3, 1, 4, 3, 2, 0, 1, 2, 0, 0, 4, 4, 3, 2, 0, 3, 1, 3, 2, 4, 3, 2, 2, 3, 3, 1, 0, 4, 1, 3, 4, 0, 3, 2, 2, 4, 0, 2, 1, 4, 3, 1, 0, 3, 4, 1, 4, 0, 0, 2, 1, 4, 0, 4, 4, 4, 1, 0, 2, 4, 3, 4, 3, 4, 3, 3, 2, 4, 3, 2, 1, 1, 3, 0, 3, 2, 3, 0, 4, 2, 0, 4, 3, 1, 1, 0, 2, 1, 0, 4, 2, 4, 3, 2, 1, 3, 0, 2, 1, 2, 0, 4, 3, 0, 2, 0, 1, 4, 1, 3, 3, 2, 1, 3, 2, 0, 4, 0, 3, 2, 1, 0, 2, 3, 3, 0, 3, 4, 4, 3, 1, 0, 0, 2, 1, 4, 4, 4, 4, 1, 1, 2, 4, 0, 1, 2, 0, 3, 1, 4, 0, 0, 1, 3, 2, 0, 0, 0, 1, 0, 0, 1, 0, 1, 4, 1, 0, 2, 4, 3, 1, 2, 2, 3, 3, 2, 2, 1, 1, 2, 4, 0, 1, 0, 4, 3, 2, 0, 4, 4, 0, 1, 2, 0, 1, 1, 2, 1, 4, 3, 0, 1, 3, 3, 4, 4, 1, 4, 3, 4, 0, 3, 4, 1, 3, 1, 0, 1, 0, 3, 0, 1, 0, 2, 1, 4, 4, 0, 4, 1, 2, 1, 3, 1, 2, 1, 1, 4, 0, 0, 3, 0, 1, 4, 0, 1, 0, 2, 1, 3, 4, 0, 1, 4, 0, 1, 1, 0, 0, 3, 1, 2, 3, 2, 1, 2, 2, 0, 1, 2, 2, 2, 2, 4, 2, 0, 2, 4, 3, 0, 0, 3, 0, 4, 4, 4, 4, 4, 2, 1, 1, 0, 0, 1, 1, 3, 3, 2, 3, 4, 4, 1, 1, 4, 2, 2, 3, 1, 1, 4, 1, 0, 4, 1, 2, 1, 4, 4, 3, 2, 1, 2, 4, 2, 2, 1, 0, 3, 0, 4, 4, 0, 1, 3, 4, 3, 2, 4, 4, 0, 1, 3, 2, 0, 3, 1, 1, 3, 0, 2, 0, 4, 1, 0, 2, 4, 3, 2, 2, 2, 4, 1, 4, 4, 0, 4, 0, 0, 0, 4, 0, 1, 2, 0, 0, 0, 1, 3, 3, 2, 2, 1, 0, 4, 2, 3, 4, 2, 1, 0, 4, 2, 2, 4, 0, 0, 4, 0, 1, 2, 1, 1, 1, 1, 0, 3, 4, 0, 4, 0, 3, 0, 1, 4, 4, 3, 2, 2, 3, 2, 1, 1, 1, 4, 2, 1, 2, 2, 4, 0, 4, 1, 0, 0, 1, 3, 0, 1, 3, 0, 4, 4, 4, 0, 4, 4, 1, 0, 4, 4, 4, 2, 1, 1, 4, 3, 3, 3, 3, 3, 4, 2, 3, 3, 2, 0, 4, 3, 0, 1, 2, 2, 0, 4, 1, 3, 0, 2, 0, 3, 4, 1, 0, 4, 4, 1, 1, 3, 3, 4, 4, 3, 3, 2, 0, 1, 4, 3, 3, 0, 3, 0, 2, 4, 0, 1, 0, 0, 1, 4, 0, 3, 4, 1, 4, 3, 4, 2, 3, 0, 2, 3, 1, 3, 0, 2, 1, 4, 2, 4, 0, 0, 3, 3, 2, 3, 4, 1, 3, 4, 2, 0, 1, 2, 0, 3, 1, 1, 3, 0, 3, 3, 3, 0, 2, 0, 4, 1, 3, 3, 4, 2, 0, 2, 1, 4, 2, 0, 2, 2, 0, 4, 3, 0, 2, 1, 1, 3, 4, 4, 0, 3, 0, 1, 0, 4, 0, 1, 0, 4, 4, 4, 3, 1, 3, 4, 3, 0, 2, 2, 2, 3, 0, 4, 0, 4, 4, 4, 1, 0, 0, 3, 2, 3, 1, 3, 4, 0, 2, 2, 3, 0, 4, 3, 3, 4, 4, 0, 3, 4, 0, 1, 4, 2, 3, 0, 2, 4, 0, 0, 0, 2, 3, 2, 3, 4, 4, 1, 0, 2, 1, 4, 0, 0, 1, 4, 4, 2, 0, 1, 0, 4, 1, 4, 3, 2, 4, 0, 1, 1, 1, 0, 2, 3, 1, 2, 3, 1, 3, 4, 2, 3, 1, 2, 0, 2, 3, 1, 2, 3, 3, 1, 1, 4, 1, 2, 3, 0, 3, 3, 3, 2, 3, 0, 0, 0, 1, 3, 4, 0, 3, 3, 4, 4, 1, 2, 1, 0, 0, 2, 2, 3, 2, 4, 0, 1, 3, 1, 3, 1, 1, 3, 0, 3, 1, 0, 3, 3, 2, 4, 1, 0, 4, 2, 2, 4, 3, 3, 0, 3, 0, 4, 0, 1, 3, 3, 3, 3, 1, 2, 2, 1, 4, 4, 0, 3, 0, 4, 2, 3, 4, 0, 4, 3, 3, 1, 2, 0, 0, 3, 1, 3, 4, 0, 4, 0, 1, 0, 4, 3, 1, 2, 0, 1, 2, 4, 4, 0, 4, 4, 1, 0, 2, 0, 3, 0, 2, 4, 3, 1, 4, 1, 1, 1, 2, 2, 3, 0, 4, 0, 4, 3, 0, 4, 2, 0, 2, 0, 4, 3, 1, 1, 0, 4, 0, 3, 4, 3, 2, 4, 4, 1, 1, 3, 2, 2, 3, 3, 1, 4, 0, 3, 3, 1, 1, 3, 4, 4, 4, 4, 0, 0, 1, 3, 4, 0, 3, 4, 1, 1, 3, 0, 1, 3, 0, 3, 2, 1, 3, 2, 0, 2, 3, 2, 2, 3, 4, 1, 3, 2, 4, 4, 3, 3, 1, 4, 1, 4, 1, 1, 1, 1, 3, 2, 4, 4, 1, 1, 2, 0, 0, 1, 2, 2, 1, 2, 4, 2, 3, 0, 2, 1, 1, 4, 2, 0, 2, 4, 1, 3, 2, 4, 3, 1, 0, 4, 1, 4, 3, 2, 2, 0, 2, 0, 4, 2, 1, 1, 4, 1, 3, 0, 2, 0, 3, 4, 1, 4, 0, 2, 0, 3, 3, 0, 0, 3, 3, 2, 4, 1, 2, 2, 3, 0, 2, 0, 4, 3, 4, 3, 0, 2, 0, 4, 1, 4, 3, 4, 1, 1, 4, 4, 2, 3, 3, 4, 0, 2, 4, 1, 2, 3, 1, 1, 1, 4, 2, 0, 2, 3, 0, 1, 4, 1, 1, 0, 0, 2, 1, 1, 3, 1, 4, 1, 2, 1, 0, 0, 3, 0, 2, 3, 4, 2, 2, 3, 3, 2, 1, 1, 4, 4, 1, 3, 4, 0, 2, 0, 3, 2, 1, 3, 1, 2, 3, 4, 0, 2, 4, 0, 1, 2, 2, 3, 3, 0, 2, 3, 3, 3, 1, 3, 3, 1, 0, 3, 0, 4, 4, 3, 1, 3, 0, 3, 0, 2, 4, 0, 3, 1, 3, 2, 1, 1, 4, 4, 2, 1, 4, 1, 2, 1, 2, 2, 4, 3, 2, 2, 2, 4, 0, 0, 2, 1, 0, 0, 4, 0, 2, 0, 4, 0, 1, 3, 0, 2, 4, 2, 4, 2, 3, 1, 4, 1, 1, 3, 4, 1, 1, 0, 0, 1, 1, 0, 3, 3, 3, 1, 2, 0, 4, 2, 2, 2, 1, 1, 4, 1, 4, 0, 1, 0, 3, 4, 2, 3, 4, 2, 3, 1, 4, 0, 2, 1, 4, 3, 0, 0, 2, 1, 4, 1, 4, 1, 2, 3, 3, 3, 3, 4, 1, 1, 4, 0, 3, 1, 4, 3, 2, 0, 3, 2, 3, 0, 1, 0, 4, 3, 1, 0, 2, 0, 4, 2, 3, 4, 2, 3, 3, 2, 1, 1, 4, 0, 3, 2, 1, 3, 0, 3, 1, 3, 0, 3, 2, 2, 4, 4, 2, 1, 2, 4, 4, 0, 0, 2, 2, 3, 3, 2, 4, 4, 1, 4, 3, 0, 1, 2, 3, 1, 1, 1, 2, 2, 3, 0, 4, 4, 4, 2, 1, 0, 3, 1, 2, 2, 2, 2, 3, 2, 4, 0, 1, 4, 3, 1, 0, 0, 3, 0, 1, 2, 0, 4, 1, 4, 3, 0, 2, 1, 0, 3, 0, 3, 1, 2, 1, 2, 4, 1, 4, 1, 4, 4, 4, 0, 0, 1, 0, 4, 2, 2, 4, 4, 1, 2, 4, 3, 3, 2, 3, 4, 1, 4, 2, 4, 2, 2, 3, 3, 3, 4, 0, 1, 1, 1, 3, 0, 2, 1, 2, 3, 4, 2, 0, 0, 0, 3, 3, 0, 0, 3, 1, 3, 2, 4, 2, 1, 2, 1, 3, 3, 0, 2, 1, 0, 2, 0, 3, 2, 1, 1, 3, 0, 4, 1, 3, 4, 1, 2, 3, 0, 1, 1, 2, 2, 4, 0, 1, 3, 4, 0, 4, 1, 0, 3, 0, 0, 4, 3, 4, 1, 3, 4, 0, 1, 1, 1, 4, 0, 0, 2, 0, 4, 0, 4, 3, 2, 3, 4, 3, 4, 3, 1, 2, 2, 0, 0, 1, 3, 3, 0, 2, 1, 4, 3, 0, 2, 2, 3, 2, 1, 2, 0, 3, 1, 0, 0, 1, 3, 2, 2, 3, 0, 0, 4, 3, 3, 4, 3, 1, 1, 4, 3, 0, 4, 1, 1, 1, 1, 1, 4, 0, 1, 2, 3, 2, 0, 0, 2, 4, 1, 3, 2, 2, 0, 0, 3, 1, 1, 4, 2, 3, 4, 4, 1, 0, 4, 1, 4, 0, 4, 2, 2, 2, 3, 4, 4, 1, 1, 3, 0, 2, 4, 4, 1, 0, 3, 0, 0, 4, 4, 2, 3, 1, 3, 3, 1, 0, 3, 4, 2, 4, 2, 3, 3, 2, 3, 1, 4, 2, 3, 1, 0, 1, 1, 0, 0, 2, 1, 4, 3, 2, 3, 4, 0, 4, 3, 0, 1, 0, 3, 0, 2, 1, 2, 4, 0, 1, 4, 2, 3, 1, 2, 1, 3, 4, 4, 4, 2, 1, 4, 4, 3, 4, 1, 2, 4, 4, 0, 3, 3, 0, 2, 3, 1, 1, 2, 0, 1, 0, 4, 0, 3, 3, 2, 3, 2, 0, 2, 2, 2, 4, 2, 2, 3, 1, 0, 3, 2, 1, 3, 1, 3, 3, 4, 0, 2, 0, 2]\n"
     ]
    }
   ],
   "source": [
    "print(test_generator.classes)"
   ]
  },
  {
   "cell_type": "code",
   "execution_count": null,
   "metadata": {},
   "outputs": [],
   "source": []
  }
 ],
 "metadata": {
  "kernelspec": {
   "display_name": "Python 3",
   "language": "python",
   "name": "python3"
  },
  "language_info": {
   "codemirror_mode": {
    "name": "ipython",
    "version": 3
   },
   "file_extension": ".py",
   "mimetype": "text/x-python",
   "name": "python",
   "nbconvert_exporter": "python",
   "pygments_lexer": "ipython3",
   "version": "3.6.9"
  }
 },
 "nbformat": 4,
 "nbformat_minor": 2
}
