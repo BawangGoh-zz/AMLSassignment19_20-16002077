{
 "cells": [
  {
   "cell_type": "markdown",
   "metadata": {},
   "source": [
    "# ELEC0134 - Applied Machine Learning Systems Assignment 2019/2020\n",
    "## Task B1: Face Shape Recognition"
   ]
  },
  {
   "cell_type": "markdown",
   "metadata": {},
   "source": [
    "In this notebook, we are going to detect 5 types of face shapes from the *cartoon_set* dataset:\n",
    "1. Setup data generator to load images dataset using Keras Image Preprocessing API\n",
    "2. Build an VGG-16 CNN architecture\n",
    "3. Fit the CNN model to the training data\n",
    "4. Test the performances of the CNN"
   ]
  },
  {
   "cell_type": "code",
   "execution_count": 1,
   "metadata": {},
   "outputs": [],
   "source": [
    "# Import libraries\n",
    "import numpy as np\n",
    "import matplotlib\n",
    "import matplotlib.pyplot as plt\n",
    "import pandas as pd\n",
    "import os\n",
    "\n",
    "from sklearn.utils import shuffle\n",
    "from sklearn.model_selection import train_test_split"
   ]
  },
  {
   "cell_type": "markdown",
   "metadata": {},
   "source": [
    "### Load labels.csv and convert to pandas dataframe"
   ]
  },
  {
   "cell_type": "code",
   "execution_count": 2,
   "metadata": {},
   "outputs": [
    {
     "name": "stdout",
     "output_type": "stream",
     "text": [
      "  file_name  face_shape\n",
      "0     0.png           4\n",
      "1     1.png           4\n",
      "2     2.png           3\n",
      "3     3.png           0\n",
      "4     4.png           2\n",
      "  file_name  face_shape\n",
      "0     0.png           5\n",
      "1     1.png           5\n",
      "2     2.png           4\n",
      "3     3.png           1\n",
      "4     4.png           3\n"
     ]
    },
    {
     "name": "stderr",
     "output_type": "stream",
     "text": [
      "c:\\users\\user\\anaconda3\\envs\\env_dlib\\lib\\site-packages\\pandas\\core\\indexing.py:494: SettingWithCopyWarning: \n",
      "A value is trying to be set on a copy of a slice from a DataFrame.\n",
      "Try using .loc[row_indexer,col_indexer] = value instead\n",
      "\n",
      "See the caveats in the documentation: http://pandas.pydata.org/pandas-docs/stable/user_guide/indexing.html#returning-a-view-versus-a-copy\n",
      "  self.obj[item] = s\n"
     ]
    }
   ],
   "source": [
    "# Modified the directory\n",
    "os.chdir('..')\n",
    "AMLS_dir = os.path.abspath(os.curdir)\n",
    "basedir = os.path.join(AMLS_dir,'Datasets')\n",
    "cartoon_dir = os.path.join(basedir,'cartoon_set')\n",
    "images_dir = os.path.join(cartoon_dir,'img')\n",
    "labels_path = os.path.join(cartoon_dir,'labels.csv')\n",
    "\n",
    "# Converting csv into dataframe using read_csv(label_path)\n",
    "cartoon_df = pd.read_csv(os.path.normcase(labels_path), sep='\\t', engine='python')\n",
    "df = cartoon_df[['file_name', 'face_shape']]\n",
    "print(df.head())\n",
    "\n",
    "# Convert the face shape column to class 1-5\n",
    "df.loc[:,'face_shape'] += 1\n",
    "print(df.head())\n",
    "\n",
    "# Convert face shape column type from int64 to str for data generator\n",
    "df = df.applymap(str)"
   ]
  },
  {
   "cell_type": "markdown",
   "metadata": {},
   "source": [
    "### 1) Setup data generators to draws from train, test and validation dataframe\n",
    "1. Convolution Neural Networks fed by batches of images to train, therefore need to convert from (size1, size2, channels) to (samples, size1, size2, channels).\n",
    "2. Split the dataframe into test, train and validation set.\n",
    "3. Use Keras Image Processing API (flow_from_dataframe) to load the images dataset according to dataframe"
   ]
  },
  {
   "cell_type": "code",
   "execution_count": 3,
   "metadata": {},
   "outputs": [
    {
     "name": "stdout",
     "output_type": "stream",
     "text": [
      "Found 5600 validated image filenames belonging to 5 classes.\n",
      "Found 1400 validated image filenames belonging to 5 classes.\n"
     ]
    }
   ],
   "source": [
    "# Import data generator API \n",
    "from tensorflow.python.keras.preprocessing.image import ImageDataGenerator\n",
    "\n",
    "# Setup data generator for train and validation dataset generator\n",
    "train_df, test_df = train_test_split(df, train_size=0.7, random_state=42)\n",
    "train_datagen = ImageDataGenerator(rescale=1./255,\n",
    "                                   horizontal_flip=True,\n",
    "                                   vertical_flip=True,\n",
    "                                   validation_split=0.2)                     \n",
    "\n",
    "# Generating training and validation dataset for VGGNet CNN\n",
    "train_generator = train_datagen.flow_from_dataframe(dataframe=train_df,\n",
    "                                                    directory=images_dir,\n",
    "                                                    x_col=\"file_name\",\n",
    "                                                    y_col=\"face_shape\",\n",
    "                                                    target_size=(32, 32),\n",
    "                                                    batch_size=16,\n",
    "                                                    shuffle=True,\n",
    "                                                    class_mode='categorical',\n",
    "                                                    subset='training')\n",
    "valid_generator = train_datagen.flow_from_dataframe(dataframe=train_df,\n",
    "                                                    directory=images_dir,\n",
    "                                                    x_col=\"file_name\",\n",
    "                                                    y_col=\"face_shape\",\n",
    "                                                    target_size=(32, 32),\n",
    "                                                    batch_size=16,\n",
    "                                                    shuffle=True, \n",
    "                                                    class_mode='categorical',\n",
    "                                                    subset='validation')"
   ]
  },
  {
   "cell_type": "markdown",
   "metadata": {},
   "source": [
    "### Using EarlyStopping and ModelCheckpoint Keras API callback to save the weights\n",
    "Too many training epochs will lead to overfitting the training dataset whereas too few will result underfitting. Therefore, it is better to monitor the performance of the model during training and call EarlyStopping when overfitting occurs and save the weights using ModelCheckpoint"
   ]
  },
  {
   "cell_type": "code",
   "execution_count": 4,
   "metadata": {},
   "outputs": [],
   "source": [
    "# Use early stopping to terminate training epochs through callbacks\n",
    "from tensorflow.python.keras.callbacks import EarlyStopping, ModelCheckpoint\n",
    "\n",
    "# Seek a mininum for validation loss and display the stopped epochs using verbose and adding delays\n",
    "es = EarlyStopping(monitor='val_loss', mode='min', verbose=1, patience=5)\n",
    "\n",
    "# Save best model using checkpoint\n",
    "B1_dir = os.path.join(AMLS_dir, 'B1')\n",
    "model_path = os.path.join(B1_dir, 'VGGNet.h5')\n",
    "mcp = ModelCheckpoint(os.path.normcase(model_path), monitor='val_loss', mode='min', verbose=1, save_best_only=True)\n",
    "\n",
    "# Define callback function in a list\n",
    "callback_list = [es, mcp]"
   ]
  },
  {
   "cell_type": "markdown",
   "metadata": {},
   "source": [
    "### 2) Build the neural network using VGG-16 architecture\n",
    "1. Build the sequential model and add convolutional and max pooling layers to it.\n",
    "2. Add dropout layer at fully connected layer\n",
    "3. Add softmax layer at the end\n",
    "4. Compile the model and use ADAM (Adaptive learning rate optimization algorithm)"
   ]
  },
  {
   "cell_type": "code",
   "execution_count": 5,
   "metadata": {
    "scrolled": false
   },
   "outputs": [
    {
     "name": "stderr",
     "output_type": "stream",
     "text": [
      "Using TensorFlow backend.\n"
     ]
    },
    {
     "name": "stdout",
     "output_type": "stream",
     "text": [
      "Model: \"sequential_1\"\n",
      "_________________________________________________________________\n",
      "Layer (type)                 Output Shape              Param #   \n",
      "=================================================================\n",
      "conv2d_1 (Conv2D)            (None, 32, 32, 16)        448       \n",
      "_________________________________________________________________\n",
      "batch_normalization_1 (Batch (None, 32, 32, 16)        64        \n",
      "_________________________________________________________________\n",
      "max_pooling2d_1 (MaxPooling2 (None, 16, 16, 16)        0         \n",
      "_________________________________________________________________\n",
      "conv2d_2 (Conv2D)            (None, 16, 16, 32)        4640      \n",
      "_________________________________________________________________\n",
      "batch_normalization_2 (Batch (None, 16, 16, 32)        128       \n",
      "_________________________________________________________________\n",
      "max_pooling2d_2 (MaxPooling2 (None, 8, 8, 32)          0         \n",
      "_________________________________________________________________\n",
      "conv2d_3 (Conv2D)            (None, 8, 8, 64)          18496     \n",
      "_________________________________________________________________\n",
      "batch_normalization_3 (Batch (None, 8, 8, 64)          256       \n",
      "_________________________________________________________________\n",
      "max_pooling2d_3 (MaxPooling2 (None, 4, 4, 64)          0         \n",
      "_________________________________________________________________\n",
      "conv2d_4 (Conv2D)            (None, 4, 4, 128)         73856     \n",
      "_________________________________________________________________\n",
      "batch_normalization_4 (Batch (None, 4, 4, 128)         512       \n",
      "_________________________________________________________________\n",
      "max_pooling2d_4 (MaxPooling2 (None, 2, 2, 128)         0         \n",
      "_________________________________________________________________\n",
      "flatten_1 (Flatten)          (None, 512)               0         \n",
      "_________________________________________________________________\n",
      "dense_1 (Dense)              (None, 64)                32832     \n",
      "_________________________________________________________________\n",
      "dropout_1 (Dropout)          (None, 64)                0         \n",
      "_________________________________________________________________\n",
      "dense_2 (Dense)              (None, 5)                 325       \n",
      "=================================================================\n",
      "Total params: 131,557\n",
      "Trainable params: 131,077\n",
      "Non-trainable params: 480\n",
      "_________________________________________________________________\n"
     ]
    }
   ],
   "source": [
    "# Import network libraries\n",
    "import keras\n",
    "from keras.models import Sequential\n",
    "from keras.utils import to_categorical\n",
    "from keras.layers import Dense, Dropout, Flatten, Activation\n",
    "from keras.layers import Conv2D, MaxPooling2D, BatchNormalization, GlobalAveragePooling2D\n",
    "\n",
    "# Number of output classes\n",
    "num_class = 5\n",
    "\n",
    "# Create a sequential model\n",
    "model = Sequential()\n",
    "\n",
    "# Add 1st convolution block\n",
    "model.add(Conv2D(filters=16, input_shape=train_generator.image_shape, kernel_size=(3,3), padding=\"same\", activation=\"relu\"))\n",
    "model.add(BatchNormalization())\n",
    "model.add(MaxPooling2D(pool_size=(2,2), strides=(2,2), padding=\"same\"))\n",
    "\n",
    "# Add 2nd convolution block\n",
    "model.add(Conv2D(filters=32, kernel_size=(3,3), padding=\"same\", activation=\"relu\"))\n",
    "model.add(BatchNormalization())\n",
    "model.add(MaxPooling2D(pool_size=(2,2), strides=(2,2), padding=\"same\"))\n",
    "\n",
    "# Add 3rd convolution block\n",
    "model.add(Conv2D(filters=64, kernel_size=(3,3), padding=\"same\", activation=\"relu\"))\n",
    "model.add(BatchNormalization())\n",
    "model.add(MaxPooling2D(pool_size=(2,2), strides=(2,2), padding=\"same\"))\n",
    "\n",
    "# Add 4th convolution block\n",
    "model.add(Conv2D(filters=128, kernel_size=(3, 3), padding='same', activation='relu'))\n",
    "model.add(BatchNormalization())\n",
    "model.add(MaxPooling2D(pool_size=(2,2), strides=(2,2), padding='same'))\n",
    "\n",
    "# Output Layer (5 clases for face shapes)\n",
    "model.add(Flatten())\n",
    "model.add(Dense(units=64,activation=\"relu\"))\n",
    "model.add(Dropout(0.5))\n",
    "model.add(Dense(units=num_class, activation=\"softmax\"))\n",
    "\n",
    "# Display summary of the model\n",
    "model.summary()\n",
    "\n",
    "# Compile the model using ADAM (Adaptive learning rate optimization)\n",
    "model.compile(optimizer='adam', loss='categorical_crossentropy', metrics=['accuracy'])"
   ]
  },
  {
   "cell_type": "markdown",
   "metadata": {},
   "source": [
    "### 3) Fit the VGG-16 CNN to training and validation data\n",
    "Access model training history using history callback to record training metrics for each epoch"
   ]
  },
  {
   "cell_type": "code",
   "execution_count": 6,
   "metadata": {},
   "outputs": [
    {
     "name": "stdout",
     "output_type": "stream",
     "text": [
      "350\n",
      "87\n",
      "Epoch 1/30\n",
      "350/350 [==============================] - 260s 742ms/step - loss: 1.6158 - accuracy: 0.2443 - val_loss: 1.5907 - val_accuracy: 0.2177\n",
      "\n",
      "Epoch 00001: val_loss improved from inf to 1.59072, saving model to d:\\ucl\\4th year\\applied machine learning system\\part 1\\assignment\\amls_assignment\\b1\\vggnet.h5\n",
      "Epoch 2/30\n",
      "350/350 [==============================] - 98s 279ms/step - loss: 1.3778 - accuracy: 0.3479 - val_loss: 1.0779 - val_accuracy: 0.3909\n",
      "\n",
      "Epoch 00002: val_loss improved from 1.59072 to 1.07788, saving model to d:\\ucl\\4th year\\applied machine learning system\\part 1\\assignment\\amls_assignment\\b1\\vggnet.h5\n",
      "Epoch 3/30\n",
      "350/350 [==============================] - 80s 228ms/step - loss: 1.2214 - accuracy: 0.4152 - val_loss: 1.1392 - val_accuracy: 0.4285\n",
      "\n",
      "Epoch 00003: val_loss did not improve from 1.07788\n",
      "Epoch 4/30\n",
      "350/350 [==============================] - 81s 232ms/step - loss: 1.0773 - accuracy: 0.4880 - val_loss: 0.6871 - val_accuracy: 0.6481\n",
      "\n",
      "Epoch 00004: val_loss improved from 1.07788 to 0.68712, saving model to d:\\ucl\\4th year\\applied machine learning system\\part 1\\assignment\\amls_assignment\\b1\\vggnet.h5\n",
      "Epoch 5/30\n",
      "350/350 [==============================] - 94s 269ms/step - loss: 0.9582 - accuracy: 0.5541 - val_loss: 0.9133 - val_accuracy: 0.6720\n",
      "\n",
      "Epoch 00005: val_loss did not improve from 0.68712\n",
      "Epoch 6/30\n",
      "350/350 [==============================] - 109s 313ms/step - loss: 0.8239 - accuracy: 0.6218 - val_loss: 0.4359 - val_accuracy: 0.6915\n",
      "\n",
      "Epoch 00006: val_loss improved from 0.68712 to 0.43589, saving model to d:\\ucl\\4th year\\applied machine learning system\\part 1\\assignment\\amls_assignment\\b1\\vggnet.h5\n",
      "Epoch 7/30\n",
      "350/350 [==============================] - 119s 339ms/step - loss: 0.7221 - accuracy: 0.6609 - val_loss: 0.3095 - val_accuracy: 0.7298\n",
      "\n",
      "Epoch 00007: val_loss improved from 0.43589 to 0.30950, saving model to d:\\ucl\\4th year\\applied machine learning system\\part 1\\assignment\\amls_assignment\\b1\\vggnet.h5\n",
      "Epoch 8/30\n",
      "350/350 [==============================] - 96s 275ms/step - loss: 0.5652 - accuracy: 0.7109 - val_loss: 0.7355 - val_accuracy: 0.5831\n",
      "\n",
      "Epoch 00008: val_loss did not improve from 0.30950\n",
      "Epoch 9/30\n",
      "350/350 [==============================] - 111s 319ms/step - loss: 0.5113 - accuracy: 0.7284 - val_loss: 0.5856 - val_accuracy: 0.7695\n",
      "\n",
      "Epoch 00009: val_loss did not improve from 0.30950\n",
      "Epoch 10/30\n",
      "350/350 [==============================] - 69s 196ms/step - loss: 0.4671 - accuracy: 0.7525 - val_loss: 0.3502 - val_accuracy: 0.8251\n",
      "\n",
      "Epoch 00010: val_loss did not improve from 0.30950\n",
      "Epoch 11/30\n",
      "350/350 [==============================] - 68s 195ms/step - loss: 0.4182 - accuracy: 0.7955 - val_loss: 0.2062 - val_accuracy: 0.8887\n",
      "\n",
      "Epoch 00011: val_loss improved from 0.30950 to 0.20622, saving model to d:\\ucl\\4th year\\applied machine learning system\\part 1\\assignment\\amls_assignment\\b1\\vggnet.h5\n",
      "Epoch 12/30\n",
      "350/350 [==============================] - 63s 179ms/step - loss: 0.3468 - accuracy: 0.8486 - val_loss: 0.1835 - val_accuracy: 0.8042\n",
      "\n",
      "Epoch 00012: val_loss improved from 0.20622 to 0.18355, saving model to d:\\ucl\\4th year\\applied machine learning system\\part 1\\assignment\\amls_assignment\\b1\\vggnet.h5\n",
      "Epoch 13/30\n",
      "350/350 [==============================] - 46s 133ms/step - loss: 0.2997 - accuracy: 0.8755 - val_loss: 0.1153 - val_accuracy: 0.9097\n",
      "\n",
      "Epoch 00013: val_loss improved from 0.18355 to 0.11532, saving model to d:\\ucl\\4th year\\applied machine learning system\\part 1\\assignment\\amls_assignment\\b1\\vggnet.h5\n",
      "Epoch 14/30\n",
      "350/350 [==============================] - 46s 131ms/step - loss: 0.2664 - accuracy: 0.8907 - val_loss: 0.0136 - val_accuracy: 0.9285\n",
      "\n",
      "Epoch 00014: val_loss improved from 0.11532 to 0.01357, saving model to d:\\ucl\\4th year\\applied machine learning system\\part 1\\assignment\\amls_assignment\\b1\\vggnet.h5\n",
      "Epoch 15/30\n",
      "350/350 [==============================] - 46s 132ms/step - loss: 0.1985 - accuracy: 0.9221 - val_loss: 0.0585 - val_accuracy: 0.9487\n",
      "\n",
      "Epoch 00015: val_loss did not improve from 0.01357\n",
      "Epoch 16/30\n",
      "350/350 [==============================] - 46s 133ms/step - loss: 0.1854 - accuracy: 0.9341 - val_loss: 0.1550 - val_accuracy: 0.9436\n",
      "\n",
      "Epoch 00016: val_loss did not improve from 0.01357\n",
      "Epoch 17/30\n",
      "350/350 [==============================] - 58s 167ms/step - loss: 0.1556 - accuracy: 0.9466 - val_loss: 0.2135 - val_accuracy: 0.9501\n",
      "\n",
      "Epoch 00017: val_loss did not improve from 0.01357\n",
      "Epoch 18/30\n",
      "350/350 [==============================] - 69s 197ms/step - loss: 0.1682 - accuracy: 0.9407 - val_loss: 0.0354 - val_accuracy: 0.9494\n",
      "\n",
      "Epoch 00018: val_loss did not improve from 0.01357\n",
      "Epoch 19/30\n",
      "350/350 [==============================] - 49s 139ms/step - loss: 0.1395 - accuracy: 0.9546 - val_loss: 0.0048 - val_accuracy: 0.9603\n",
      "\n",
      "Epoch 00019: val_loss improved from 0.01357 to 0.00483, saving model to d:\\ucl\\4th year\\applied machine learning system\\part 1\\assignment\\amls_assignment\\b1\\vggnet.h5\n",
      "Epoch 20/30\n",
      "350/350 [==============================] - 48s 138ms/step - loss: 0.1359 - accuracy: 0.9548 - val_loss: 0.1129 - val_accuracy: 0.9516\n",
      "\n",
      "Epoch 00020: val_loss did not improve from 0.00483\n",
      "Epoch 21/30\n",
      "350/350 [==============================] - 57s 162ms/step - loss: 0.1198 - accuracy: 0.9591 - val_loss: 0.1110 - val_accuracy: 0.9675\n",
      "\n",
      "Epoch 00021: val_loss did not improve from 0.00483\n",
      "Epoch 22/30\n",
      "350/350 [==============================] - 59s 168ms/step - loss: 0.0925 - accuracy: 0.9718 - val_loss: 0.0430 - val_accuracy: 0.9350\n",
      "\n",
      "Epoch 00022: val_loss did not improve from 0.00483\n",
      "Epoch 23/30\n",
      "350/350 [==============================] - 51s 145ms/step - loss: 0.1182 - accuracy: 0.9584 - val_loss: 0.0832 - val_accuracy: 0.9379\n",
      "\n",
      "Epoch 00023: val_loss did not improve from 0.00483\n",
      "Epoch 24/30\n",
      "350/350 [==============================] - 124s 356ms/step - loss: 0.0987 - accuracy: 0.9675 - val_loss: 0.0674 - val_accuracy: 0.9458\n",
      "\n",
      "Epoch 00024: val_loss did not improve from 0.00483\n",
      "Epoch 00024: early stopping\n"
     ]
    }
   ],
   "source": [
    "# Set steps per epoch for callback \n",
    "STEP_SIZE_TRAIN = train_generator.samples//train_generator.batch_size\n",
    "STEP_SIZE_VALID = valid_generator.samples//valid_generator.batch_size\n",
    "print(STEP_SIZE_TRAIN)\n",
    "print(STEP_SIZE_VALID)\n",
    "\n",
    "history = model.fit_generator(generator=train_generator,\n",
    "                              steps_per_epoch=STEP_SIZE_TRAIN,\n",
    "                              epochs=30,\n",
    "                              callbacks=callback_list,\n",
    "                              validation_data=valid_generator,\n",
    "                              validation_steps=STEP_SIZE_VALID)"
   ]
  },
  {
   "cell_type": "markdown",
   "metadata": {},
   "source": [
    "### 4) Performances of CNN\n",
    "1. Plot the learning curve for model validation to select the optimum hyperparameters\n",
    "2. Evaluating model performances using standard metrics e.g confusion matrix, accurancy score, ROC curve and etc"
   ]
  },
  {
   "cell_type": "markdown",
   "metadata": {},
   "source": [
    "### Model validation"
   ]
  },
  {
   "cell_type": "code",
   "execution_count": 7,
   "metadata": {},
   "outputs": [
    {
     "data": {
      "text/plain": [
       "<matplotlib.legend.Legend at 0x2e3ba66c0b8>"
      ]
     },
     "execution_count": 7,
     "metadata": {},
     "output_type": "execute_result"
    },
    {
     "data": {
      "image/png": "[encoded data removed]",
      "text/plain": [
       "<Figure size 432x288 with 1 Axes>"
      ]
     },
     "metadata": {
      "needs_background": "light"
     },
     "output_type": "display_data"
    }
   ],
   "source": [
    "# Plot accuracy score versus epochs\n",
    "plt.plot(history.history['accuracy'])\n",
    "plt.plot(history.history['val_accuracy'])\n",
    "plt.ylabel('Accuracy')\n",
    "plt.xlabel('Epoch')\n",
    "plt.legend(['Train', 'Validation'], loc='lower right')"
   ]
  },
  {
   "cell_type": "code",
   "execution_count": 8,
   "metadata": {},
   "outputs": [
    {
     "data": {
      "text/plain": [
       "<matplotlib.legend.Legend at 0x2e3ba72b630>"
      ]
     },
     "execution_count": 8,
     "metadata": {},
     "output_type": "execute_result"
    },
    {
     "data": {
      "image/png": "[encoded data removed]",
      "text/plain": [
       "<Figure size 432x288 with 1 Axes>"
      ]
     },
     "metadata": {
      "needs_background": "light"
     },
     "output_type": "display_data"
    }
   ],
   "source": [
    "# Plot loss score versus epochs\n",
    "plt.plot(history.history['loss'])\n",
    "plt.plot(history.history['val_loss'])\n",
    "plt.ylabel('Loss')\n",
    "plt.xlabel('Epoch')\n",
    "plt.legend(['Train', 'Validation'], loc='upper right')"
   ]
  },
  {
   "cell_type": "markdown",
   "metadata": {},
   "source": [
    "### Model evaluation on validation dataset"
   ]
  },
  {
   "cell_type": "code",
   "execution_count": 39,
   "metadata": {},
   "outputs": [
    {
     "name": "stdout",
     "output_type": "stream",
     "text": [
      "Found 1400 validated image filenames belonging to 5 classes.\n",
      "87/87 [==============================] - 1s 9ms/step\n",
      "loss: 4.768370445162873e-07\n",
      "accuracy: 0.977011501789093\n"
     ]
    }
   ],
   "source": [
    "from sklearn.metrics import classification_report,accuracy_score,confusion_matrix, plot_confusion_matrix\n",
    "\n",
    "# Evaluate the model with validation dataset\n",
    "eval_generator = train_datagen.flow_from_dataframe(dataframe=train_df,\n",
    "                                                    directory=images_dir,\n",
    "                                                    x_col=\"file_name\",\n",
    "                                                    y_col=\"face_shape\",\n",
    "                                                    target_size=(32, 32),\n",
    "                                                    batch_size=1,\n",
    "                                                    shuffle=True, \n",
    "                                                    class_mode='categorical',\n",
    "                                                    subset='validation')\n",
    "eval_model = model.evaluate_generator(generator=eval_generator, steps=STEP_SIZE_VALID, verbose=1)\n",
    "print(str(model.metrics_names[0]) + ': '  + str(eval_model[0]))\n",
    "print(str(model.metrics_names[1]) + ': '  + str(eval_model[1]))"
   ]
  },
  {
   "cell_type": "markdown",
   "metadata": {},
   "source": [
    "### Model evaluation on test dataset"
   ]
  },
  {
   "cell_type": "code",
   "execution_count": 40,
   "metadata": {},
   "outputs": [
    {
     "name": "stdout",
     "output_type": "stream",
     "text": [
      "Found 3000 validated image filenames belonging to 5 classes.\n",
      "3000/3000 [==============================] - 52s 17ms/step\n"
     ]
    }
   ],
   "source": [
    "from keras.models import load_model\n",
    "\n",
    "# Fit the model to the test dataset by loading the model \n",
    "saved_model = load_model(model_path)\n",
    "\n",
    "# Generate test dataset from dataframe\n",
    "test_datagen = ImageDataGenerator(rescale=1./255)\n",
    "test_generator = test_datagen.flow_from_dataframe(dataframe=test_df,\n",
    "                                                    directory=images_dir,\n",
    "                                                    x_col=\"file_name\",\n",
    "                                                    y_col=\"face_shape\",\n",
    "                                                    target_size=(32, 32),\n",
    "                                                    batch_size=1,\n",
    "                                                    shuffle=False,\n",
    "                                                    class_mode='categorical')\n",
    "STEP_SIZE_TEST = test_generator.samples//test_generator.batch_size\n",
    "test_generator.reset()\n",
    "pred = saved_model.predict_generator(test_generator, steps=STEP_SIZE_TEST, verbose=1)\n",
    "\n",
    "# Determine the maximum activation value at the output layers for each sample\n",
    "pred_class = np.argmax(pred, axis=1)   # axis = 1 give max value along each row\n",
    "\n",
    "# True labels of test dataset\n",
    "true_class = test_generator.classes"
   ]
  },
  {
   "cell_type": "code",
   "execution_count": 69,
   "metadata": {},
   "outputs": [
    {
     "name": "stdout",
     "output_type": "stream",
     "text": [
      "Confusion matrix\n",
      "[[553   4   0  35   3]\n",
      " [ 42 542   0   9   2]\n",
      " [  0   0 614   0   0]\n",
      " [ 15   0   2 565   2]\n",
      " [ 17   0   2  19 574]]\n",
      "Normalized confusion matrix\n",
      "[[0.99796248 0.00721854 0.         0.06316218 0.0054139 ]\n",
      " [0.07724805 0.99686769 0.         0.01655315 0.00367848]\n",
      " [0.         0.         1.         0.         0.        ]\n",
      " [0.02653899 0.         0.00353853 0.99963525 0.00353853]\n",
      " [0.02958737 0.         0.00348087 0.03306824 0.99900899]]\n"
     ]
    },
    {
     "data": {
      "image/png": "[encoded data removed]",
      "text/plain": [
       "<Figure size 720x720 with 4 Axes>"
      ]
     },
     "metadata": {
      "needs_background": "light"
     },
     "output_type": "display_data"
    }
   ],
   "source": [
    "from sklearn.preprocessing import normalize\n",
    "%matplotlib inline\n",
    "\n",
    "def plot_cm(true_label, pred_label):\n",
    "    # Plot non-normalized and normalize confusian matrix\n",
    "    class_names = ['Face Shape 1', 'Face Shape 2', 'Face Shape 3', 'Face Shape 4', 'Face Shape 5']\n",
    "    cm = confusion_matrix(true_label, pred_label)\n",
    "    norm_cm = normalize(cm)\n",
    "    \n",
    "    print('Confusion matrix')\n",
    "    print(cm)\n",
    "    \n",
    "    fig, (ax1, ax2) = plt.subplots(1,2, figsize=(10,10))\n",
    "    im1 = ax1.imshow(cm, interpolation=\"nearest\")\n",
    "    plt.colorbar(im1, fraction=0.05, pad=0.04, ax=ax1)\n",
    "    \n",
    "    ax1.set_xticks(np.arange(len(class_names)))\n",
    "    ax1.set_yticks(np.arange(len(class_names)))\n",
    "    ax1.set_xticklabels(class_names)\n",
    "    ax1.set_yticklabels(class_names)\n",
    "    ax1.set_title('Confusion matrix')\n",
    "    ax1.set_xlabel('Predicted labels')\n",
    "    ax1.set_ylabel('True labels')\n",
    "    \n",
    "    \n",
    "    # Rotate the tick labels and set their alignment.\n",
    "    plt.setp(ax1.get_xticklabels(), rotation=45, ha=\"right\",\n",
    "             rotation_mode=\"anchor\")\n",
    "    \n",
    "    print('Normalized confusion matrix')\n",
    "    print(norm_cm)\n",
    "    \n",
    "    im2 = ax2.imshow(norm_cm, interpolation=\"nearest\")\n",
    "    plt.colorbar(im2, fraction=0.05, pad=0.04, ax=ax2)\n",
    "    \n",
    "    ax2.set_xticks(np.arange(len(class_names)))\n",
    "    ax2.set_yticks(np.arange(len(class_names)))\n",
    "    ax2.set_xticklabels(class_names)\n",
    "    ax2.set_yticklabels(class_names)\n",
    "    ax2.set_title('Normalized confusion matrix')\n",
    "    ax2.set_xlabel('Predicted labels')\n",
    "    ax2.set_ylabel('True labels')\n",
    "    \n",
    "    \n",
    "    # Rotate the tick labels and set their alignment.\n",
    "    plt.setp(ax2.get_xticklabels(), rotation=45, ha=\"right\",\n",
    "             rotation_mode=\"anchor\")\n",
    "    \n",
    "    fig.tight_layout()\n",
    "    plt.show()\n",
    "    \n",
    "#     fig, ax = plt.subplots()\n",
    "#     im = ax.imshow(cm, interpolation=\"nearest\")\n",
    "#     plt.colorbar(im)\n",
    "\n",
    "#     # Show all ticks and labels\n",
    "#     ax.set_xticks(np.arange(len(class_names)))\n",
    "#     ax.set_yticks(np.arange(len(class_names)))\n",
    "#     ax.set_xticklabels(class_names)\n",
    "#     ax.set_yticklabels(class_names)\n",
    "\n",
    "#     # Rotate the tick labels and set their alignment.\n",
    "#     plt.setp(ax.get_xticklabels(), rotation=45, ha=\"right\",\n",
    "#              rotation_mode=\"anchor\")\n",
    "\n",
    "#     plt.title('Confusion matrix')\n",
    "#     plt.xlabel('Predicted labels')\n",
    "#     plt.ylabel('True labels')\n",
    "#     plt.show()\n",
    "    \n",
    "plot_cm(true_class, pred_class)"
   ]
  },
  {
   "cell_type": "markdown",
   "metadata": {},
   "source": [
    "### Import extra dataset and test "
   ]
  },
  {
   "cell_type": "code",
   "execution_count": 45,
   "metadata": {},
   "outputs": [
    {
     "name": "stdout",
     "output_type": "stream",
     "text": [
      "  file_name  face_shape\n",
      "0     0.png           4\n",
      "1     1.png           4\n",
      "2     2.png           3\n",
      "3     3.png           0\n",
      "4     4.png           2\n",
      "  file_name  face_shape\n",
      "0     0.png           5\n",
      "1     1.png           5\n",
      "2     2.png           4\n",
      "3     3.png           1\n",
      "4     4.png           3\n",
      "Found 10000 validated image filenames belonging to 5 classes.\n",
      "10000/10000 [==============================] - 101s 10ms/step\n",
      "Confusion matrix\n",
      "[[1892   11    1   91    5]\n",
      " [ 120 1855    2   20    3]\n",
      " [   0    0 1999    1    0]\n",
      " [  36    0    4 1958    2]\n",
      " [  32    0    6   40 1922]]\n"
     ]
    },
    {
     "data": {
      "image/png": "[encoded data removed]",
      "text/plain": [
       "<Figure size 432x288 with 2 Axes>"
      ]
     },
     "metadata": {
      "needs_background": "light"
     },
     "output_type": "display_data"
    }
   ],
   "source": [
    "cartoon_test_dir = os.path.join(basedir,'cartoon_set_test')\n",
    "images_test_dir = os.path.join(cartoon_dir,'img')\n",
    "labels_test_filename = os.path.join(cartoon_dir,'labels.csv')\n",
    "\n",
    "# Converting csv into dataframe using read_csv(label_path)\n",
    "cartoon_new_df = pd.read_csv(os.path.normcase(labels_test_filename), sep='\\t', engine='python')\n",
    "new_df = cartoon_new_df[['file_name', 'face_shape']]\n",
    "print(new_df.head())\n",
    "\n",
    "# Convert the face shape column to class 1-5\n",
    "new_df.loc[:,'face_shape'] += 1\n",
    "print(new_df.head())\n",
    "\n",
    "# Convert face shape column type from int64 to str for data generator\n",
    "new_df = new_df.applymap(str)\n",
    "\n",
    "# Generate extra test dataset from dataframe\n",
    "new_generator = test_datagen.flow_from_dataframe(dataframe=new_df,\n",
    "                                                directory=images_test_dir,\n",
    "                                                x_col=\"file_name\",\n",
    "                                                y_col=\"face_shape\",\n",
    "                                                target_size=(32, 32),\n",
    "                                                batch_size=1,\n",
    "                                                shuffle=False,\n",
    "                                                class_mode='categorical')\n",
    "STEP_SIZE_NEW = new_generator.samples//new_generator.batch_size\n",
    "new_generator.reset()\n",
    "new_pred = saved_model.predict_generator(new_generator, steps=STEP_SIZE_NEW, verbose=1)\n",
    "\n",
    "# Determine the maximum activation value at the output layers for each sample\n",
    "new_pred_class = np.argmax(new_pred, axis=1)   # axis = 1 give max value along each row\n",
    "\n",
    "# True labels of test dataset\n",
    "new_true_class = new_generator.classes\n",
    "\n",
    "# Plot confusion matrix\n",
    "plot_cm(new_true_class, new_pred_class)"
   ]
  },
  {
   "cell_type": "markdown",
   "metadata": {
    "scrolled": true
   },
   "source": [
    "### Map the predicted labels with unique id\n",
    "Map the predicted result with unique filenames to find out the images"
   ]
  },
  {
   "cell_type": "code",
   "execution_count": null,
   "metadata": {},
   "outputs": [],
   "source": []
  }
 ],
 "metadata": {
  "kernelspec": {
   "display_name": "Python 3",
   "language": "python",
   "name": "python3"
  },
  "language_info": {
   "codemirror_mode": {
    "name": "ipython",
    "version": 3
   },
   "file_extension": ".py",
   "mimetype": "text/x-python",
   "name": "python",
   "nbconvert_exporter": "python",
   "pygments_lexer": "ipython3",
   "version": "3.6.9"
  }
 },
 "nbformat": 4,
 "nbformat_minor": 2
}
