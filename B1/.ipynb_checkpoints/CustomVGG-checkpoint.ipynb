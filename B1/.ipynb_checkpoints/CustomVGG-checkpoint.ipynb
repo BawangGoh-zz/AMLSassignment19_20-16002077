{
 "cells": [
  {
   "cell_type": "markdown",
   "metadata": {},
   "source": [
    "# ELEC0134 - Applied Machine Learning Systems Assignment 2019/2020\n",
    "## Task B1: Face Shape Recognition"
   ]
  },
  {
   "cell_type": "markdown",
   "metadata": {},
   "source": [
    "In this notebook, we are going to detect 5 types of face shapes from the *cartoon_set* dataset:\n",
    "1. Setup data generator to load images dataset using Keras Image Preprocessing API\n",
    "2. Build an VGG-16 CNN architecture\n",
    "3. Fit the CNN model to the training data\n",
    "4. Test the performances of the CNN"
   ]
  },
  {
   "cell_type": "code",
   "execution_count": 1,
   "metadata": {},
   "outputs": [],
   "source": [
    "# Import libraries\n",
    "import numpy as np\n",
    "import matplotlib\n",
    "import matplotlib.pyplot as plt\n",
    "import pandas as pd\n",
    "import os\n",
    "\n",
    "from sklearn.utils import shuffle\n",
    "from sklearn.model_selection import train_test_split"
   ]
  },
  {
   "cell_type": "markdown",
   "metadata": {},
   "source": [
    "### Load labels.csv and convert to pandas dataframe"
   ]
  },
  {
   "cell_type": "code",
   "execution_count": 2,
   "metadata": {},
   "outputs": [
    {
     "name": "stdout",
     "output_type": "stream",
     "text": [
      "  file_name  face_shape\n",
      "0     0.png           4\n",
      "1     1.png           4\n",
      "2     2.png           3\n",
      "3     3.png           0\n",
      "4     4.png           2\n",
      "  file_name  face_shape\n",
      "0     0.png           5\n",
      "1     1.png           5\n",
      "2     2.png           4\n",
      "3     3.png           1\n",
      "4     4.png           3\n"
     ]
    },
    {
     "name": "stderr",
     "output_type": "stream",
     "text": [
      "c:\\users\\user\\anaconda3\\envs\\env_dlib\\lib\\site-packages\\pandas\\core\\indexing.py:494: SettingWithCopyWarning: \n",
      "A value is trying to be set on a copy of a slice from a DataFrame.\n",
      "Try using .loc[row_indexer,col_indexer] = value instead\n",
      "\n",
      "See the caveats in the documentation: http://pandas.pydata.org/pandas-docs/stable/user_guide/indexing.html#returning-a-view-versus-a-copy\n",
      "  self.obj[item] = s\n"
     ]
    }
   ],
   "source": [
    "# Modified the directory\n",
    "os.chdir('..')\n",
    "AMLS_dir = os.path.abspath(os.curdir)\n",
    "basedir = os.path.join(AMLS_dir,'Datasets')\n",
    "cartoon_dir = os.path.join(basedir,'cartoon_set')\n",
    "images_dir = os.path.join(cartoon_dir,'img')\n",
    "labels_path = os.path.join(cartoon_dir,'labels.csv')\n",
    "\n",
    "# Converting csv into dataframe using read_csv(label_path)\n",
    "cartoon_df = pd.read_csv(os.path.normcase(labels_path), sep='\\t', engine='python')\n",
    "df = cartoon_df[['file_name', 'face_shape']]\n",
    "print(df.head())\n",
    "\n",
    "# Convert the face shape column to class 1-5\n",
    "df.loc[:,'face_shape'] += 1\n",
    "print(df.head())\n",
    "\n",
    "# Convert face shape column type from int64 to str for data generator\n",
    "df = df.applymap(str)"
   ]
  },
  {
   "cell_type": "markdown",
   "metadata": {},
   "source": [
    "### 1) Setup data generators to draws from train, test and validation dataframe\n",
    "1. Convolution Neural Networks fed by batches of images to train, therefore need to convert from (size1, size2, channels) to (samples, size1, size2, channels).\n",
    "2. Split the dataframe into test, train and validation set.\n",
    "3. Use Keras Image Processing API (flow_from_dataframe) to load the images dataset according to dataframe"
   ]
  },
  {
   "cell_type": "code",
   "execution_count": 3,
   "metadata": {},
   "outputs": [
    {
     "name": "stdout",
     "output_type": "stream",
     "text": [
      "Found 4900 validated image filenames belonging to 5 classes.\n",
      "Found 2100 validated image filenames belonging to 5 classes.\n"
     ]
    }
   ],
   "source": [
    "# Import data generator API \n",
    "from tensorflow.python.keras.preprocessing.image import ImageDataGenerator\n",
    "\n",
    "# Setup data generator for train and validation dataset generator\n",
    "train_df, test_df = train_test_split(df, train_size=0.7, random_state=42)\n",
    "train_datagen = ImageDataGenerator(rescale=1./255,\n",
    "                                   horizontal_flip=True,\n",
    "                                   vertical_flip=True,\n",
    "                                   validation_split=0.3)                     \n",
    "\n",
    "# Generating training and validation dataset for VGGNet CNN\n",
    "train_generator = train_datagen.flow_from_dataframe(dataframe=train_df,\n",
    "                                                    directory=images_dir,\n",
    "                                                    x_col=\"file_name\",\n",
    "                                                    y_col=\"face_shape\",\n",
    "                                                    target_size=(32, 32),\n",
    "                                                    batch_size=32,\n",
    "                                                    shuffle=True,\n",
    "                                                    class_mode='categorical',\n",
    "                                                    subset='training')\n",
    "valid_generator = train_datagen.flow_from_dataframe(dataframe=train_df,\n",
    "                                                    directory=images_dir,\n",
    "                                                    x_col=\"file_name\",\n",
    "                                                    y_col=\"face_shape\",\n",
    "                                                    target_size=(32, 32),\n",
    "                                                    batch_size=32,\n",
    "                                                    shuffle=True, \n",
    "                                                    class_mode='categorical',\n",
    "                                                    subset='validation')"
   ]
  },
  {
   "cell_type": "markdown",
   "metadata": {},
   "source": [
    "### Using EarlyStopping and ModelCheckpoint Keras API callback to save the weights\n",
    "Too many training epochs will lead to overfitting the training dataset whereas too few will result underfitting. Therefore, it is better to monitor the performance of the model during training and call EarlyStopping when overfitting occurs and save the weights using ModelCheckpoint"
   ]
  },
  {
   "cell_type": "code",
   "execution_count": 4,
   "metadata": {},
   "outputs": [],
   "source": [
    "# Use early stopping to terminate training epochs through callbacks\n",
    "from tensorflow.python.keras.callbacks import EarlyStopping, ModelCheckpoint\n",
    "\n",
    "# Seek a mininum for validation loss and display the stopped epochs using verbose and adding delays\n",
    "es = EarlyStopping(monitor='val_loss', mode='min', verbose=1, patience=5)\n",
    "\n",
    "# Save best model using checkpoint\n",
    "B1_dir = os.path.join(AMLS_dir, 'B1')\n",
    "model_path = os.path.join(B1_dir, 'VGGNet.h5')\n",
    "mcp = ModelCheckpoint(os.path.normcase(model_path), monitor='val_loss', mode='min', verbose=1, save_best_only=True)\n",
    "\n",
    "# Define callback function in a list\n",
    "callback_list = [es, mcp]"
   ]
  },
  {
   "cell_type": "markdown",
   "metadata": {},
   "source": [
    "### 2) Build the neural network using VGG-16 architecture\n",
    "1. Build the sequential model and add convolutional and max pooling layers to it.\n",
    "2. Add dropout layer at fully connected layer\n",
    "3. Add softmax layer at the end\n",
    "4. Compile the model and use ADAM (Adaptive learning rate optimization algorithm)"
   ]
  },
  {
   "cell_type": "code",
   "execution_count": 5,
   "metadata": {
    "scrolled": false
   },
   "outputs": [
    {
     "name": "stderr",
     "output_type": "stream",
     "text": [
      "Using TensorFlow backend.\n"
     ]
    },
    {
     "name": "stdout",
     "output_type": "stream",
     "text": [
      "Model: \"sequential_1\"\n",
      "_________________________________________________________________\n",
      "Layer (type)                 Output Shape              Param #   \n",
      "=================================================================\n",
      "conv2d_1 (Conv2D)            (None, 32, 32, 16)        448       \n",
      "_________________________________________________________________\n",
      "batch_normalization_1 (Batch (None, 32, 32, 16)        64        \n",
      "_________________________________________________________________\n",
      "max_pooling2d_1 (MaxPooling2 (None, 16, 16, 16)        0         \n",
      "_________________________________________________________________\n",
      "conv2d_2 (Conv2D)            (None, 16, 16, 32)        4640      \n",
      "_________________________________________________________________\n",
      "batch_normalization_2 (Batch (None, 16, 16, 32)        128       \n",
      "_________________________________________________________________\n",
      "max_pooling2d_2 (MaxPooling2 (None, 8, 8, 32)          0         \n",
      "_________________________________________________________________\n",
      "conv2d_3 (Conv2D)            (None, 8, 8, 64)          18496     \n",
      "_________________________________________________________________\n",
      "batch_normalization_3 (Batch (None, 8, 8, 64)          256       \n",
      "_________________________________________________________________\n",
      "max_pooling2d_3 (MaxPooling2 (None, 4, 4, 64)          0         \n",
      "_________________________________________________________________\n",
      "conv2d_4 (Conv2D)            (None, 4, 4, 128)         73856     \n",
      "_________________________________________________________________\n",
      "batch_normalization_4 (Batch (None, 4, 4, 128)         512       \n",
      "_________________________________________________________________\n",
      "max_pooling2d_4 (MaxPooling2 (None, 2, 2, 128)         0         \n",
      "_________________________________________________________________\n",
      "flatten_1 (Flatten)          (None, 512)               0         \n",
      "_________________________________________________________________\n",
      "dense_1 (Dense)              (None, 64)                32832     \n",
      "_________________________________________________________________\n",
      "dropout_1 (Dropout)          (None, 64)                0         \n",
      "_________________________________________________________________\n",
      "dense_2 (Dense)              (None, 5)                 325       \n",
      "=================================================================\n",
      "Total params: 131,557\n",
      "Trainable params: 131,077\n",
      "Non-trainable params: 480\n",
      "_________________________________________________________________\n"
     ]
    }
   ],
   "source": [
    "# Import network libraries\n",
    "import keras\n",
    "from keras.models import Sequential\n",
    "from keras.utils import to_categorical\n",
    "from keras.layers import Dense, Dropout, Flatten, Activation\n",
    "from keras.layers import Conv2D, MaxPooling2D, BatchNormalization, GlobalAveragePooling2D\n",
    "\n",
    "# Number of output classes\n",
    "num_class = 5\n",
    "\n",
    "# Create a sequential model\n",
    "model = Sequential()\n",
    "\n",
    "# Add 1st convolution block\n",
    "model.add(Conv2D(filters=16, input_shape=train_generator.image_shape, kernel_size=(3,3), padding=\"same\", activation=\"relu\"))\n",
    "model.add(BatchNormalization())\n",
    "model.add(MaxPooling2D(pool_size=(2,2), strides=(2,2), padding=\"same\"))\n",
    "\n",
    "# Add 2nd convolution block\n",
    "model.add(Conv2D(filters=32, kernel_size=(3,3), padding=\"same\", activation=\"relu\"))\n",
    "model.add(BatchNormalization())\n",
    "model.add(MaxPooling2D(pool_size=(2,2), strides=(2,2), padding=\"same\"))\n",
    "\n",
    "# Add 3rd convolution block\n",
    "model.add(Conv2D(filters=64, kernel_size=(3,3), padding=\"same\", activation=\"relu\"))\n",
    "model.add(BatchNormalization())\n",
    "model.add(MaxPooling2D(pool_size=(2,2), strides=(2,2), padding=\"same\"))\n",
    "\n",
    "# Add 4th convolution block\n",
    "model.add(Conv2D(filters=128, kernel_size=(3, 3), padding='same', activation='relu'))\n",
    "model.add(BatchNormalization())\n",
    "model.add(MaxPooling2D(pool_size=(2,2), strides=(2,2), padding='same'))\n",
    "\n",
    "# Output Layer (5 clases for face shapes)\n",
    "model.add(Flatten())\n",
    "model.add(Dense(units=64,activation=\"relu\"))\n",
    "model.add(Dropout(0.5))\n",
    "model.add(Dense(units=num_class, activation=\"softmax\"))\n",
    "\n",
    "# Display summary of the model\n",
    "model.summary()\n",
    "\n",
    "# Compile the model using ADAM (Adaptive learning rate optimization)\n",
    "model.compile(optimizer='adam', loss='categorical_crossentropy', metrics=['accuracy'])"
   ]
  },
  {
   "cell_type": "markdown",
   "metadata": {},
   "source": [
    "### 3) Fit the VGG-16 CNN to training and validation data\n",
    "Access model training history using history callback to record training metrics for each epoch"
   ]
  },
  {
   "cell_type": "code",
   "execution_count": 6,
   "metadata": {},
   "outputs": [
    {
     "name": "stdout",
     "output_type": "stream",
     "text": [
      "153\n",
      "65\n",
      "Epoch 1/30\n",
      "153/153 [==============================] - 202s 1s/step - loss: 1.6745 - accuracy: 0.2056 - val_loss: 2.1780 - val_accuracy: 0.2014\n",
      "\n",
      "Epoch 00001: val_loss improved from inf to 2.17801, saving model to d:\\ucl\\4th year\\applied machine learning system\\part 1\\assignment\\amls_assignment\\b1\\vggnet.h5\n",
      "Epoch 2/30\n",
      "153/153 [==============================] - 79s 518ms/step - loss: 1.5904 - accuracy: 0.2200 - val_loss: 1.8792 - val_accuracy: 0.2065\n",
      "\n",
      "Epoch 00002: val_loss improved from 2.17801 to 1.87918, saving model to d:\\ucl\\4th year\\applied machine learning system\\part 1\\assignment\\amls_assignment\\b1\\vggnet.h5\n",
      "Epoch 3/30\n",
      "153/153 [==============================] - 75s 489ms/step - loss: 1.5242 - accuracy: 0.2634 - val_loss: 1.6041 - val_accuracy: 0.2534\n",
      "\n",
      "Epoch 00003: val_loss improved from 1.87918 to 1.60407, saving model to d:\\ucl\\4th year\\applied machine learning system\\part 1\\assignment\\amls_assignment\\b1\\vggnet.h5\n",
      "Epoch 4/30\n",
      "153/153 [==============================] - 74s 483ms/step - loss: 1.3902 - accuracy: 0.3367 - val_loss: 1.3249 - val_accuracy: 0.3554\n",
      "\n",
      "Epoch 00004: val_loss improved from 1.60407 to 1.32490, saving model to d:\\ucl\\4th year\\applied machine learning system\\part 1\\assignment\\amls_assignment\\b1\\vggnet.h5\n",
      "Epoch 5/30\n",
      "153/153 [==============================] - 76s 494ms/step - loss: 1.2239 - accuracy: 0.4215 - val_loss: 1.3415 - val_accuracy: 0.5024\n",
      "\n",
      "Epoch 00005: val_loss did not improve from 1.32490\n",
      "Epoch 6/30\n",
      "153/153 [==============================] - 73s 478ms/step - loss: 1.0334 - accuracy: 0.5125 - val_loss: 0.9650 - val_accuracy: 0.5377\n",
      "\n",
      "Epoch 00006: val_loss improved from 1.32490 to 0.96501, saving model to d:\\ucl\\4th year\\applied machine learning system\\part 1\\assignment\\amls_assignment\\b1\\vggnet.h5\n",
      "Epoch 7/30\n",
      "153/153 [==============================] - 78s 513ms/step - loss: 0.8796 - accuracy: 0.5811 - val_loss: 0.9625 - val_accuracy: 0.6509\n",
      "\n",
      "Epoch 00007: val_loss improved from 0.96501 to 0.96246, saving model to d:\\ucl\\4th year\\applied machine learning system\\part 1\\assignment\\amls_assignment\\b1\\vggnet.h5\n",
      "Epoch 8/30\n",
      "153/153 [==============================] - 74s 484ms/step - loss: 0.7356 - accuracy: 0.6582 - val_loss: 0.4750 - val_accuracy: 0.7655\n",
      "\n",
      "Epoch 00008: val_loss improved from 0.96246 to 0.47503, saving model to d:\\ucl\\4th year\\applied machine learning system\\part 1\\assignment\\amls_assignment\\b1\\vggnet.h5\n",
      "Epoch 9/30\n",
      "153/153 [==============================] - 74s 484ms/step - loss: 0.6357 - accuracy: 0.7079 - val_loss: 0.4580 - val_accuracy: 0.7524\n",
      "\n",
      "Epoch 00009: val_loss improved from 0.47503 to 0.45798, saving model to d:\\ucl\\4th year\\applied machine learning system\\part 1\\assignment\\amls_assignment\\b1\\vggnet.h5\n",
      "Epoch 10/30\n",
      "153/153 [==============================] - 74s 482ms/step - loss: 0.5384 - accuracy: 0.7675 - val_loss: 0.3269 - val_accuracy: 0.8612\n",
      "\n",
      "Epoch 00010: val_loss improved from 0.45798 to 0.32690, saving model to d:\\ucl\\4th year\\applied machine learning system\\part 1\\assignment\\amls_assignment\\b1\\vggnet.h5\n",
      "Epoch 11/30\n",
      "153/153 [==============================] - 52s 343ms/step - loss: 0.4223 - accuracy: 0.8240 - val_loss: 0.3004 - val_accuracy: 0.8946\n",
      "\n",
      "Epoch 00011: val_loss improved from 0.32690 to 0.30037, saving model to d:\\ucl\\4th year\\applied machine learning system\\part 1\\assignment\\amls_assignment\\b1\\vggnet.h5\n",
      "Epoch 12/30\n",
      "153/153 [==============================] - 49s 323ms/step - loss: 0.3415 - accuracy: 0.8550 - val_loss: 0.4706 - val_accuracy: 0.8675\n",
      "\n",
      "Epoch 00012: val_loss did not improve from 0.30037\n",
      "Epoch 13/30\n",
      "153/153 [==============================] - 49s 323ms/step - loss: 0.3260 - accuracy: 0.8724 - val_loss: 0.1974 - val_accuracy: 0.9110\n",
      "\n",
      "Epoch 00013: val_loss improved from 0.30037 to 0.19736, saving model to d:\\ucl\\4th year\\applied machine learning system\\part 1\\assignment\\amls_assignment\\b1\\vggnet.h5\n",
      "Epoch 14/30\n",
      "153/153 [==============================] - 49s 321ms/step - loss: 0.2946 - accuracy: 0.8839 - val_loss: 0.3729 - val_accuracy: 0.8897\n",
      "\n",
      "Epoch 00014: val_loss did not improve from 0.19736\n",
      "Epoch 15/30\n",
      "153/153 [==============================] - 49s 321ms/step - loss: 0.2623 - accuracy: 0.8944 - val_loss: 0.1925 - val_accuracy: 0.8902\n",
      "\n",
      "Epoch 00015: val_loss improved from 0.19736 to 0.19245, saving model to d:\\ucl\\4th year\\applied machine learning system\\part 1\\assignment\\amls_assignment\\b1\\vggnet.h5\n",
      "Epoch 16/30\n",
      "153/153 [==============================] - 50s 330ms/step - loss: 0.2070 - accuracy: 0.9203 - val_loss: 0.5107 - val_accuracy: 0.9202\n",
      "\n",
      "Epoch 00016: val_loss did not improve from 0.19245\n",
      "Epoch 17/30\n",
      "153/153 [==============================] - 57s 373ms/step - loss: 0.2099 - accuracy: 0.9213 - val_loss: 0.0237 - val_accuracy: 0.9289\n",
      "\n",
      "Epoch 00017: val_loss improved from 0.19245 to 0.02370, saving model to d:\\ucl\\4th year\\applied machine learning system\\part 1\\assignment\\amls_assignment\\b1\\vggnet.h5\n",
      "Epoch 18/30\n",
      "153/153 [==============================] - 79s 517ms/step - loss: 0.1913 - accuracy: 0.9295 - val_loss: 0.0200 - val_accuracy: 0.9463\n",
      "\n",
      "Epoch 00018: val_loss improved from 0.02370 to 0.02005, saving model to d:\\ucl\\4th year\\applied machine learning system\\part 1\\assignment\\amls_assignment\\b1\\vggnet.h5\n",
      "Epoch 19/30\n",
      "153/153 [==============================] - 133s 866ms/step - loss: 0.1859 - accuracy: 0.9314 - val_loss: 0.1850 - val_accuracy: 0.9255\n",
      "\n",
      "Epoch 00019: val_loss did not improve from 0.02005\n",
      "Epoch 20/30\n",
      "153/153 [==============================] - 127s 831ms/step - loss: 0.1681 - accuracy: 0.9421 - val_loss: 0.1070 - val_accuracy: 0.9357\n",
      "\n",
      "Epoch 00020: val_loss did not improve from 0.02005\n",
      "Epoch 21/30\n",
      "153/153 [==============================] - 113s 737ms/step - loss: 0.1553 - accuracy: 0.9532 - val_loss: 0.0851 - val_accuracy: 0.9444\n",
      "\n",
      "Epoch 00021: val_loss did not improve from 0.02005\n",
      "Epoch 22/30\n",
      "153/153 [==============================] - 111s 724ms/step - loss: 0.1151 - accuracy: 0.9618 - val_loss: 0.3312 - val_accuracy: 0.9526\n",
      "\n",
      "Epoch 00022: val_loss did not improve from 0.02005\n",
      "Epoch 23/30\n",
      "153/153 [==============================] - 115s 751ms/step - loss: 0.1570 - accuracy: 0.9482 - val_loss: 0.1296 - val_accuracy: 0.9473\n",
      "\n",
      "Epoch 00023: val_loss did not improve from 0.02005\n",
      "Epoch 00023: early stopping\n"
     ]
    }
   ],
   "source": [
    "# Set steps per epoch for callback \n",
    "STEP_SIZE_TRAIN = train_generator.samples//train_generator.batch_size\n",
    "STEP_SIZE_VALID = valid_generator.samples//valid_generator.batch_size\n",
    "print(STEP_SIZE_TRAIN)\n",
    "print(STEP_SIZE_VALID)\n",
    "\n",
    "history = model.fit_generator(generator=train_generator,\n",
    "                              steps_per_epoch=STEP_SIZE_TRAIN,\n",
    "                              epochs=30,\n",
    "                              callbacks=callback_list,\n",
    "                              validation_data=valid_generator,\n",
    "                              validation_steps=STEP_SIZE_VALID)"
   ]
  },
  {
   "cell_type": "markdown",
   "metadata": {},
   "source": [
    "### 4) Performances of CNN\n",
    "1. Plot the learning curve for model validation to select the optimum hyperparameters\n",
    "2. Evaluating model performances using standard metrics e.g confusion matrix, accurancy score, ROC curve and etc"
   ]
  },
  {
   "cell_type": "markdown",
   "metadata": {},
   "source": [
    "### Model validation"
   ]
  },
  {
   "cell_type": "code",
   "execution_count": 13,
   "metadata": {},
   "outputs": [
    {
     "data": {
      "text/plain": [
       "<matplotlib.legend.Legend at 0x2255ca42ac8>"
      ]
     },
     "execution_count": 13,
     "metadata": {},
     "output_type": "execute_result"
    },
    {
     "data": {
      "image/png": "[encoded data removed]",
      "text/plain": [
       "<Figure size 432x288 with 1 Axes>"
      ]
     },
     "metadata": {
      "needs_background": "light"
     },
     "output_type": "display_data"
    }
   ],
   "source": [
    "# Plot accuracy score versus epochs\n",
    "plt.plot(history.history['accuracy'])\n",
    "plt.plot(history.history['val_accuracy'])\n",
    "plt.ylabel('Accuracy')\n",
    "plt.xlabel('Epoch')\n",
    "plt.legend(['Train', 'Validation'], loc='lower right')"
   ]
  },
  {
   "cell_type": "code",
   "execution_count": 14,
   "metadata": {},
   "outputs": [
    {
     "data": {
      "text/plain": [
       "<matplotlib.legend.Legend at 0x2255ca63ef0>"
      ]
     },
     "execution_count": 14,
     "metadata": {},
     "output_type": "execute_result"
    },
    {
     "data": {
      "image/png": "[encoded data removed]",
      "text/plain": [
       "<Figure size 432x288 with 1 Axes>"
      ]
     },
     "metadata": {
      "needs_background": "light"
     },
     "output_type": "display_data"
    }
   ],
   "source": [
    "# Plot loss score versus epochs\n",
    "plt.plot(history.history['loss'])\n",
    "plt.plot(history.history['val_loss'])\n",
    "plt.ylabel('Loss')\n",
    "plt.xlabel('Epoch')\n",
    "plt.legend(['Train', 'Validation'], loc='upper right')"
   ]
  },
  {
   "cell_type": "markdown",
   "metadata": {},
   "source": [
    "### Model evaluation on validation dataset"
   ]
  },
  {
   "cell_type": "code",
   "execution_count": 9,
   "metadata": {},
   "outputs": [
    {
     "name": "stdout",
     "output_type": "stream",
     "text": [
      "Found 2100 validated image filenames belonging to 5 classes.\n",
      "65/65 [==============================] - 1s 22ms/step\n",
      "loss: 9.894321920000948e-06\n",
      "accuracy: 0.9846153855323792\n"
     ]
    }
   ],
   "source": [
    "from sklearn.metrics import classification_report,accuracy_score,confusion_matrix, plot_confusion_matrix\n",
    "\n",
    "# Evaluate the model with validation dataset\n",
    "eval_generator = train_datagen.flow_from_dataframe(dataframe=train_df,\n",
    "                                                    directory=images_dir,\n",
    "                                                    x_col=\"file_name\",\n",
    "                                                    y_col=\"face_shape\",\n",
    "                                                    target_size=(32, 32),\n",
    "                                                    batch_size=1,\n",
    "                                                    shuffle=True, \n",
    "                                                    class_mode='categorical',\n",
    "                                                    subset='validation')\n",
    "eval_model = model.evaluate_generator(generator=eval_generator, steps=STEP_SIZE_VALID, verbose=1)\n",
    "print('Training '+ str(model.metrics_names[0]) + ': '  + str(eval_model[0]))\n",
    "print('Training '+ str(model.metrics_names[1]) + ': '  + str(eval_model[1]))"
   ]
  },
  {
   "cell_type": "markdown",
   "metadata": {},
   "source": [
    "### Model evaluation on test dataset"
   ]
  },
  {
   "cell_type": "code",
   "execution_count": 10,
   "metadata": {},
   "outputs": [
    {
     "name": "stdout",
     "output_type": "stream",
     "text": [
      "Found 3000 validated image filenames belonging to 5 classes.\n",
      "3000/3000 [==============================] - 171s 57ms/step\n"
     ]
    }
   ],
   "source": [
    "from keras.models import load_model\n",
    "\n",
    "# Fit the model to the test dataset by loading the model \n",
    "saved_model = load_model(model_path)\n",
    "\n",
    "# Generate test dataset from dataframe\n",
    "test_datagen = ImageDataGenerator(rescale=1./255)\n",
    "test_generator = test_datagen.flow_from_dataframe(dataframe=test_df,\n",
    "                                                    directory=images_dir,\n",
    "                                                    x_col=\"file_name\",\n",
    "                                                    y_col=\"face_shape\",\n",
    "                                                    target_size=(32, 32),\n",
    "                                                    batch_size=1,\n",
    "                                                    shuffle=False,\n",
    "                                                    class_mode='categorical')\n",
    "STEP_SIZE_TEST = test_generator.samples//test_generator.batch_size\n",
    "test_generator.reset()\n",
    "pred = saved_model.predict_generator(test_generator, steps=STEP_SIZE_TEST, verbose=1)\n",
    "\n",
    "# Determine the maximum activation value at the output layers for each sample\n",
    "pred_class = np.argmax(pred, axis=1)   # axis = 1 give max value along each row\n",
    "\n",
    "# True labels of test dataset\n",
    "true_class = test_generator.classes"
   ]
  },
  {
   "cell_type": "code",
   "execution_count": 15,
   "metadata": {},
   "outputs": [
    {
     "name": "stdout",
     "output_type": "stream",
     "text": [
      "Confusion matrix\n",
      "[[557  22   0  16   0]\n",
      " [ 16 555   0   2  22]\n",
      " [  0   0 605   6   3]\n",
      " [ 34   0   2 548   0]\n",
      " [  4   9   0   3 596]]\n",
      "0.9536666666666667\n",
      "Normalized confusion matrix\n",
      "[[0.99880954 0.03945029 0.         0.02869112 0.        ]\n",
      " [0.02879408 0.99879449 0.         0.00359926 0.03959185]\n",
      " [0.         0.         0.99993853 0.00991675 0.00495837]\n",
      " [0.06192431 0.         0.00364261 0.9980742  0.        ]\n",
      " [0.00671041 0.01509842 0.         0.00503281 0.99985083]]\n"
     ]
    },
    {
     "data": {
      "image/png": "[encoded data removed]",
      "text/plain": [
       "<Figure size 720x720 with 4 Axes>"
      ]
     },
     "metadata": {
      "needs_background": "light"
     },
     "output_type": "display_data"
    }
   ],
   "source": [
    "from sklearn.preprocessing import normalize\n",
    "%matplotlib inline\n",
    "\n",
    "def plot_cm(true_label, pred_label):\n",
    "    # Plot non-normalized and normalize confusian matrix\n",
    "    class_names = ['Face Shape 1', 'Face Shape 2', 'Face Shape 3', 'Face Shape 4', 'Face Shape 5']\n",
    "    cm = confusion_matrix(true_label, pred_label)\n",
    "    norm_cm = normalize(cm)\n",
    "    \n",
    "    print('Confusion matrix')\n",
    "    print(cm)\n",
    "    print(accuracy_score(true_label, pred_label))\n",
    "    \n",
    "    fig, (ax1, ax2) = plt.subplots(1,2, figsize=(10,10))\n",
    "    im1 = ax1.imshow(cm, interpolation=\"nearest\")\n",
    "    plt.colorbar(im1, fraction=0.05, pad=0.04, ax=ax1)\n",
    "    \n",
    "    ax1.set_xticks(np.arange(len(class_names)))\n",
    "    ax1.set_yticks(np.arange(len(class_names)))\n",
    "    ax1.set_xticklabels(class_names)\n",
    "    ax1.set_yticklabels(class_names)\n",
    "    ax1.set_title('Confusion matrix')\n",
    "    ax1.set_xlabel('Predicted labels')\n",
    "    ax1.set_ylabel('True labels')\n",
    "    \n",
    "    \n",
    "    # Rotate the tick labels and set their alignment.\n",
    "    plt.setp(ax1.get_xticklabels(), rotation=45, ha=\"right\",\n",
    "             rotation_mode=\"anchor\")\n",
    "    \n",
    "    print('Normalized confusion matrix')\n",
    "    print(norm_cm)\n",
    "    \n",
    "    im2 = ax2.imshow(norm_cm, interpolation=\"nearest\")\n",
    "    plt.colorbar(im2, fraction=0.05, pad=0.04, ax=ax2)\n",
    "    \n",
    "    ax2.set_xticks(np.arange(len(class_names)))\n",
    "    ax2.set_yticks(np.arange(len(class_names)))\n",
    "    ax2.set_xticklabels(class_names)\n",
    "    ax2.set_yticklabels(class_names)\n",
    "    ax2.set_title('Normalized confusion matrix')\n",
    "    ax2.set_xlabel('Predicted labels')\n",
    "    ax2.set_ylabel('True labels')\n",
    "    \n",
    "    \n",
    "    # Rotate the tick labels and set their alignment.\n",
    "    plt.setp(ax2.get_xticklabels(), rotation=45, ha=\"right\",\n",
    "             rotation_mode=\"anchor\")\n",
    "    \n",
    "    fig.tight_layout()\n",
    "    plt.show()\n",
    "    \n",
    "#     fig, ax = plt.subplots()\n",
    "#     im = ax.imshow(cm, interpolation=\"nearest\")\n",
    "#     plt.colorbar(im)\n",
    "\n",
    "#     # Show all ticks and labels\n",
    "#     ax.set_xticks(np.arange(len(class_names)))\n",
    "#     ax.set_yticks(np.arange(len(class_names)))\n",
    "#     ax.set_xticklabels(class_names)\n",
    "#     ax.set_yticklabels(class_names)\n",
    "\n",
    "#     # Rotate the tick labels and set their alignment.\n",
    "#     plt.setp(ax.get_xticklabels(), rotation=45, ha=\"right\",\n",
    "#              rotation_mode=\"anchor\")\n",
    "\n",
    "#     plt.title('Confusion matrix')\n",
    "#     plt.xlabel('Predicted labels')\n",
    "#     plt.ylabel('True labels')\n",
    "#     plt.show()\n",
    "    \n",
    "plot_cm(true_class, pred_class)"
   ]
  },
  {
   "cell_type": "markdown",
   "metadata": {},
   "source": [
    "### Import extra dataset and test "
   ]
  },
  {
   "cell_type": "code",
   "execution_count": 16,
   "metadata": {},
   "outputs": [
    {
     "name": "stdout",
     "output_type": "stream",
     "text": [
      "  file_name  face_shape\n",
      "0     0.png           4\n",
      "1     1.png           4\n",
      "2     2.png           3\n",
      "3     3.png           0\n",
      "4     4.png           2\n",
      "  file_name  face_shape\n",
      "0     0.png           5\n",
      "1     1.png           5\n",
      "2     2.png           4\n",
      "3     3.png           1\n",
      "4     4.png           3\n"
     ]
    },
    {
     "name": "stderr",
     "output_type": "stream",
     "text": [
      "c:\\users\\user\\anaconda3\\envs\\env_dlib\\lib\\site-packages\\pandas\\core\\indexing.py:494: SettingWithCopyWarning: \n",
      "A value is trying to be set on a copy of a slice from a DataFrame.\n",
      "Try using .loc[row_indexer,col_indexer] = value instead\n",
      "\n",
      "See the caveats in the documentation: http://pandas.pydata.org/pandas-docs/stable/user_guide/indexing.html#returning-a-view-versus-a-copy\n",
      "  self.obj[item] = s\n"
     ]
    },
    {
     "name": "stdout",
     "output_type": "stream",
     "text": [
      "Found 10000 validated image filenames belonging to 5 classes.\n",
      "10000/10000 [==============================] - 164s 16ms/step\n",
      "Confusion matrix\n",
      "[[1902   53    0   44    1]\n",
      " [  40 1893    0   11   56]\n",
      " [   0    0 1978   17    5]\n",
      " [  92    1    5 1899    3]\n",
      " [   5   21    1    8 1965]]\n",
      "0.9637\n",
      "Normalized confusion matrix\n",
      "[[9.99344686e-01 2.78471442e-02 0.00000000e+00 2.31183839e-02\n",
      "  5.25417816e-04]\n",
      " [2.11161752e-02 9.99322989e-01 0.00000000e+00 5.80694817e-03\n",
      "  2.95626452e-02]\n",
      " [0.00000000e+00 0.00000000e+00 9.99959874e-01 8.59419508e-03\n",
      "  2.52770443e-03]\n",
      " [4.83895627e-02 5.25973508e-04 2.62986754e-03 9.98823692e-01\n",
      "  1.57792052e-03]\n",
      " [2.54435432e-03 1.06862881e-02 5.08870863e-04 4.07096691e-03\n",
      "  9.99931247e-01]]\n"
     ]
    },
    {
     "data": {
      "image/png": "[encoded data removed]",
      "text/plain": [
       "<Figure size 720x720 with 4 Axes>"
      ]
     },
     "metadata": {
      "needs_background": "light"
     },
     "output_type": "display_data"
    }
   ],
   "source": [
    "cartoon_test_dir = os.path.join(basedir,'cartoon_set_test')\n",
    "images_test_dir = os.path.join(cartoon_dir,'img')\n",
    "labels_test_filename = os.path.join(cartoon_dir,'labels.csv')\n",
    "\n",
    "# Converting csv into dataframe using read_csv(label_path)\n",
    "cartoon_new_df = pd.read_csv(os.path.normcase(labels_test_filename), sep='\\t', engine='python')\n",
    "new_df = cartoon_new_df[['file_name', 'face_shape']]\n",
    "print(new_df.head())\n",
    "\n",
    "# Convert the face shape column to class 1-5\n",
    "new_df.loc[:,'face_shape'] += 1\n",
    "print(new_df.head())\n",
    "\n",
    "# Convert face shape column type from int64 to str for data generator\n",
    "new_df = new_df.applymap(str)\n",
    "\n",
    "# Generate extra test dataset from dataframe\n",
    "new_generator = test_datagen.flow_from_dataframe(dataframe=new_df,\n",
    "                                                directory=images_test_dir,\n",
    "                                                x_col=\"file_name\",\n",
    "                                                y_col=\"face_shape\",\n",
    "                                                target_size=(32, 32),\n",
    "                                                batch_size=1,\n",
    "                                                shuffle=False,\n",
    "                                                class_mode='categorical')\n",
    "STEP_SIZE_NEW = new_generator.samples//new_generator.batch_size\n",
    "new_generator.reset()\n",
    "new_pred = saved_model.predict_generator(new_generator, steps=STEP_SIZE_NEW, verbose=1)\n",
    "\n",
    "# Determine the maximum activation value at the output layers for each sample\n",
    "new_pred_class = np.argmax(new_pred, axis=1)   # axis = 1 give max value along each row\n",
    "\n",
    "# True labels of test dataset\n",
    "new_true_class = new_generator.classes\n",
    "\n",
    "# Plot confusion matrix\n",
    "plot_cm(new_true_class, new_pred_class)"
   ]
  },
  {
   "cell_type": "markdown",
   "metadata": {
    "scrolled": true
   },
   "source": [
    "### Map the predicted labels with unique id\n",
    "Map the predicted result with unique filenames to find out the images"
   ]
  },
  {
   "cell_type": "code",
   "execution_count": null,
   "metadata": {},
   "outputs": [],
   "source": []
  }
 ],
 "metadata": {
  "kernelspec": {
   "display_name": "Python 3",
   "language": "python",
   "name": "python3"
  },
  "language_info": {
   "codemirror_mode": {
    "name": "ipython",
    "version": 3
   },
   "file_extension": ".py",
   "mimetype": "text/x-python",
   "name": "python",
   "nbconvert_exporter": "python",
   "pygments_lexer": "ipython3",
   "version": "3.6.9"
  }
 },
 "nbformat": 4,
 "nbformat_minor": 2
}
